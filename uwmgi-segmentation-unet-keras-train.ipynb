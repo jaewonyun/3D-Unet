{
 "cells": [
  {
   "cell_type": "markdown",
   "id": "be20f9e9",
   "metadata": {
    "papermill": {
     "duration": 0.07259,
     "end_time": "2022-06-17T09:18:57.582562",
     "exception": false,
     "start_time": "2022-06-17T09:18:57.509972",
     "status": "completed"
    },
    "tags": []
   },
   "source": [
    "# Introduction"
   ]
  },
  {
   "cell_type": "markdown",
   "id": "0bc7e704",
   "metadata": {
    "papermill": {
     "duration": 0.049107,
     "end_time": "2022-06-17T09:18:57.678439",
     "exception": false,
     "start_time": "2022-06-17T09:18:57.629332",
     "status": "completed"
    },
    "tags": []
   },
   "source": [
    "In this notebook, we perform **GI tract semantic image segmentation** using U-Net. "
   ]
  },
  {
   "cell_type": "markdown",
   "id": "c61bf561",
   "metadata": {
    "papermill": {
     "duration": 0.046701,
     "end_time": "2022-06-17T09:18:57.897985",
     "exception": false,
     "start_time": "2022-06-17T09:18:57.851284",
     "status": "completed"
    },
    "tags": []
   },
   "source": [
    "**Libraries**"
   ]
  },
  {
   "cell_type": "code",
   "execution_count": 1,
   "id": "0e2920fa",
   "metadata": {
    "_kg_hide-input": true,
    "execution": {
     "iopub.execute_input": "2022-06-17T09:18:57.992027Z",
     "iopub.status.busy": "2022-06-17T09:18:57.991642Z",
     "iopub.status.idle": "2022-06-17T09:19:03.827421Z",
     "shell.execute_reply": "2022-06-17T09:19:03.826666Z"
    },
    "papermill": {
     "duration": 5.885363,
     "end_time": "2022-06-17T09:19:03.829532",
     "exception": false,
     "start_time": "2022-06-17T09:18:57.944169",
     "status": "completed"
    },
    "tags": []
   },
   "outputs": [],
   "source": [
    "# Core\n",
    "import pandas as pd\n",
    "import numpy as np\n",
    "import os\n",
    "import cv2\n",
    "import gc\n",
    "from PIL import Image\n",
    "import matplotlib.pyplot as plt\n",
    "from tqdm import tqdm\n",
    "from tqdm.notebook import tqdm\n",
    "from datetime import datetime\n",
    "import json,itertools\n",
    "from typing import Optional\n",
    "from glob import glob\n",
    "import warnings\n",
    "warnings.filterwarnings(\"ignore\")\n",
    "import matplotlib.gridspec as gridspec\n",
    "import matplotlib.patches as mpatches\n",
    "import matplotlib as mpl\n",
    "from sklearn.model_selection import StratifiedKFold, KFold, StratifiedGroupKFold\n",
    "import random\n",
    "\n",
    "# Keras\n",
    "from tensorflow import keras\n",
    "import tensorflow as tf\n",
    "import keras\n",
    "from keras import backend as K\n",
    "from keras.models import Model\n",
    "from keras.layers import Input\n",
    "from keras.layers.convolutional import Conv2D, Conv2DTranspose\n",
    "from keras.layers.pooling import MaxPooling2D\n",
    "from tensorflow.keras.layers import concatenate \n",
    "from keras.losses import binary_crossentropy\n",
    "from keras.callbacks import Callback, ModelCheckpoint, EarlyStopping\n",
    "from keras.models import load_model, save_model"
   ]
  },
  {
   "cell_type": "markdown",
   "id": "5cc4e8ea",
   "metadata": {
    "papermill": {
     "duration": 0.046507,
     "end_time": "2022-06-17T09:19:03.922064",
     "exception": false,
     "start_time": "2022-06-17T09:19:03.875557",
     "status": "completed"
    },
    "tags": []
   },
   "source": [
    "**Reproducibility**"
   ]
  },
  {
   "cell_type": "code",
   "execution_count": 2,
   "id": "10d4f769",
   "metadata": {
    "execution": {
     "iopub.execute_input": "2022-06-17T09:19:04.016208Z",
     "iopub.status.busy": "2022-06-17T09:19:04.015554Z",
     "iopub.status.idle": "2022-06-17T09:19:04.019830Z",
     "shell.execute_reply": "2022-06-17T09:19:04.019163Z"
    },
    "papermill": {
     "duration": 0.052973,
     "end_time": "2022-06-17T09:19:04.021402",
     "exception": false,
     "start_time": "2022-06-17T09:19:03.968429",
     "status": "completed"
    },
    "tags": []
   },
   "outputs": [],
   "source": [
    "# Set random seeds\n",
    "def set_seed(seed=0):\n",
    "    np.random.seed(seed)\n",
    "    random.seed(seed)\n",
    "    tf.random.set_seed(seed)\n",
    "set_seed()"
   ]
  },
  {
   "cell_type": "markdown",
   "id": "facd66a2",
   "metadata": {
    "papermill": {
     "duration": 0.046158,
     "end_time": "2022-06-17T09:19:04.113462",
     "exception": false,
     "start_time": "2022-06-17T09:19:04.067304",
     "status": "completed"
    },
    "tags": []
   },
   "source": [
    "**Config**"
   ]
  },
  {
   "cell_type": "code",
   "execution_count": 3,
   "id": "463860f8",
   "metadata": {
    "execution": {
     "iopub.execute_input": "2022-06-17T09:19:04.207106Z",
     "iopub.status.busy": "2022-06-17T09:19:04.206875Z",
     "iopub.status.idle": "2022-06-17T09:19:04.210642Z",
     "shell.execute_reply": "2022-06-17T09:19:04.210005Z"
    },
    "papermill": {
     "duration": 0.051694,
     "end_time": "2022-06-17T09:19:04.212225",
     "exception": false,
     "start_time": "2022-06-17T09:19:04.160531",
     "status": "completed"
    },
    "tags": []
   },
   "outputs": [],
   "source": [
    "BATCH_SIZE = 16\n",
    "EPOCHS = 40\n",
    "n_splits = 5\n",
    "fold_selected = 2   # 1,...,5\n",
    "im_width = 320\n",
    "im_height = 320"
   ]
  },
  {
   "cell_type": "markdown",
   "id": "bc10324f",
   "metadata": {
    "papermill": {
     "duration": 0.04588,
     "end_time": "2022-06-17T09:19:04.303360",
     "exception": false,
     "start_time": "2022-06-17T09:19:04.257480",
     "status": "completed"
    },
    "tags": []
   },
   "source": [
    "# Data"
   ]
  },
  {
   "cell_type": "markdown",
   "id": "87eeb35f",
   "metadata": {
    "papermill": {
     "duration": 0.045736,
     "end_time": "2022-06-17T09:19:04.395022",
     "exception": false,
     "start_time": "2022-06-17T09:19:04.349286",
     "status": "completed"
    },
    "tags": []
   },
   "source": [
    "**Train set**"
   ]
  },
  {
   "cell_type": "code",
   "execution_count": 4,
   "id": "a65a884d",
   "metadata": {
    "execution": {
     "iopub.execute_input": "2022-06-17T09:19:04.488473Z",
     "iopub.status.busy": "2022-06-17T09:19:04.488250Z",
     "iopub.status.idle": "2022-06-17T09:19:04.965729Z",
     "shell.execute_reply": "2022-06-17T09:19:04.964835Z"
    },
    "papermill": {
     "duration": 0.527422,
     "end_time": "2022-06-17T09:19:04.968596",
     "exception": false,
     "start_time": "2022-06-17T09:19:04.441174",
     "status": "completed"
    },
    "tags": []
   },
   "outputs": [
    {
     "name": "stdout",
     "output_type": "stream",
     "text": [
      "(115488, 3)\n"
     ]
    },
    {
     "data": {
      "text/html": [
       "<div>\n",
       "<style scoped>\n",
       "    .dataframe tbody tr th:only-of-type {\n",
       "        vertical-align: middle;\n",
       "    }\n",
       "\n",
       "    .dataframe tbody tr th {\n",
       "        vertical-align: top;\n",
       "    }\n",
       "\n",
       "    .dataframe thead th {\n",
       "        text-align: right;\n",
       "    }\n",
       "</style>\n",
       "<table border=\"1\" class=\"dataframe\">\n",
       "  <thead>\n",
       "    <tr style=\"text-align: right;\">\n",
       "      <th></th>\n",
       "      <th>id</th>\n",
       "      <th>class</th>\n",
       "      <th>segmentation</th>\n",
       "    </tr>\n",
       "  </thead>\n",
       "  <tbody>\n",
       "    <tr>\n",
       "      <th>0</th>\n",
       "      <td>case123_day20_slice_0001</td>\n",
       "      <td>large_bowel</td>\n",
       "      <td>NaN</td>\n",
       "    </tr>\n",
       "    <tr>\n",
       "      <th>1</th>\n",
       "      <td>case123_day20_slice_0001</td>\n",
       "      <td>small_bowel</td>\n",
       "      <td>NaN</td>\n",
       "    </tr>\n",
       "    <tr>\n",
       "      <th>2</th>\n",
       "      <td>case123_day20_slice_0001</td>\n",
       "      <td>stomach</td>\n",
       "      <td>NaN</td>\n",
       "    </tr>\n",
       "    <tr>\n",
       "      <th>3</th>\n",
       "      <td>case123_day20_slice_0002</td>\n",
       "      <td>large_bowel</td>\n",
       "      <td>NaN</td>\n",
       "    </tr>\n",
       "    <tr>\n",
       "      <th>4</th>\n",
       "      <td>case123_day20_slice_0002</td>\n",
       "      <td>small_bowel</td>\n",
       "      <td>NaN</td>\n",
       "    </tr>\n",
       "  </tbody>\n",
       "</table>\n",
       "</div>"
      ],
      "text/plain": [
       "                         id        class segmentation\n",
       "0  case123_day20_slice_0001  large_bowel          NaN\n",
       "1  case123_day20_slice_0001  small_bowel          NaN\n",
       "2  case123_day20_slice_0001      stomach          NaN\n",
       "3  case123_day20_slice_0002  large_bowel          NaN\n",
       "4  case123_day20_slice_0002  small_bowel          NaN"
      ]
     },
     "execution_count": 4,
     "metadata": {},
     "output_type": "execute_result"
    }
   ],
   "source": [
    "# Train set\n",
    "train_df = pd.read_csv('/Users/yunjaewon/tensorflow/uw-madison-gi-tract-image-segmentation/train.csv')\n",
    "print(train_df.shape)\n",
    "train_df.head()"
   ]
  },
  {
   "cell_type": "markdown",
   "id": "9dfd693c",
   "metadata": {
    "papermill": {
     "duration": 0.04685,
     "end_time": "2022-06-17T09:19:05.062998",
     "exception": false,
     "start_time": "2022-06-17T09:19:05.016148",
     "status": "completed"
    },
    "tags": []
   },
   "source": [
    "**Test set**"
   ]
  },
  {
   "cell_type": "markdown",
   "id": "10bde59d",
   "metadata": {
    "papermill": {
     "duration": 0.053081,
     "end_time": "2022-06-17T09:19:05.162240",
     "exception": false,
     "start_time": "2022-06-17T09:19:05.109159",
     "status": "completed"
    },
    "tags": []
   },
   "source": [
    "*Note:* This is a code competition, which means the 'real' test set will be populated at inference time."
   ]
  },
  {
   "cell_type": "code",
   "execution_count": 5,
   "id": "e26d0c3e",
   "metadata": {
    "execution": {
     "iopub.execute_input": "2022-06-17T09:19:05.320348Z",
     "iopub.status.busy": "2022-06-17T09:19:05.319923Z",
     "iopub.status.idle": "2022-06-17T09:19:05.346238Z",
     "shell.execute_reply": "2022-06-17T09:19:05.345578Z"
    },
    "papermill": {
     "duration": 0.104444,
     "end_time": "2022-06-17T09:19:05.348696",
     "exception": false,
     "start_time": "2022-06-17T09:19:05.244252",
     "status": "completed"
    },
    "tags": []
   },
   "outputs": [
    {
     "data": {
      "text/html": [
       "<div>\n",
       "<style scoped>\n",
       "    .dataframe tbody tr th:only-of-type {\n",
       "        vertical-align: middle;\n",
       "    }\n",
       "\n",
       "    .dataframe tbody tr th {\n",
       "        vertical-align: top;\n",
       "    }\n",
       "\n",
       "    .dataframe thead th {\n",
       "        text-align: right;\n",
       "    }\n",
       "</style>\n",
       "<table border=\"1\" class=\"dataframe\">\n",
       "  <thead>\n",
       "    <tr style=\"text-align: right;\">\n",
       "      <th></th>\n",
       "      <th>id</th>\n",
       "      <th>class</th>\n",
       "      <th>predicted</th>\n",
       "    </tr>\n",
       "  </thead>\n",
       "  <tbody>\n",
       "    <tr>\n",
       "      <th>0</th>\n",
       "      <td>case123_day20_slice_0001</td>\n",
       "      <td>large_bowel</td>\n",
       "      <td></td>\n",
       "    </tr>\n",
       "    <tr>\n",
       "      <th>1</th>\n",
       "      <td>case123_day20_slice_0001</td>\n",
       "      <td>small_bowel</td>\n",
       "      <td></td>\n",
       "    </tr>\n",
       "    <tr>\n",
       "      <th>2</th>\n",
       "      <td>case123_day20_slice_0001</td>\n",
       "      <td>stomach</td>\n",
       "      <td></td>\n",
       "    </tr>\n",
       "    <tr>\n",
       "      <th>3</th>\n",
       "      <td>case123_day20_slice_0002</td>\n",
       "      <td>large_bowel</td>\n",
       "      <td></td>\n",
       "    </tr>\n",
       "    <tr>\n",
       "      <th>4</th>\n",
       "      <td>case123_day20_slice_0002</td>\n",
       "      <td>small_bowel</td>\n",
       "      <td></td>\n",
       "    </tr>\n",
       "  </tbody>\n",
       "</table>\n",
       "</div>"
      ],
      "text/plain": [
       "                         id        class predicted\n",
       "0  case123_day20_slice_0001  large_bowel          \n",
       "1  case123_day20_slice_0001  small_bowel          \n",
       "2  case123_day20_slice_0001      stomach          \n",
       "3  case123_day20_slice_0002  large_bowel          \n",
       "4  case123_day20_slice_0002  small_bowel          "
      ]
     },
     "execution_count": 5,
     "metadata": {},
     "output_type": "execute_result"
    }
   ],
   "source": [
    "# Test set\n",
    "test_df = pd.read_csv('/Users/yunjaewon/tensorflow/uw-madison-gi-tract-image-segmentation/sample_submission.csv')\n",
    "\n",
    "if len(test_df)==0:\n",
    "    DEBUG=True\n",
    "    test_df = train_df.iloc[:10*16*3,:]\n",
    "    test_df[\"segmentation\"]=''\n",
    "    test_df=test_df.rename(columns={\"segmentation\":\"predicted\"})\n",
    "else:\n",
    "    DEBUG=False\n",
    "\n",
    "submission=test_df.copy()\n",
    "test_df.head()"
   ]
  },
  {
   "cell_type": "markdown",
   "id": "a22789f6",
   "metadata": {
    "papermill": {
     "duration": 0.076729,
     "end_time": "2022-06-17T09:19:05.507731",
     "exception": false,
     "start_time": "2022-06-17T09:19:05.431002",
     "status": "completed"
    },
    "tags": []
   },
   "source": [
    "# Preprocessing"
   ]
  },
  {
   "cell_type": "markdown",
   "id": "fd322f0b",
   "metadata": {
    "papermill": {
     "duration": 0.083994,
     "end_time": "2022-06-17T09:19:05.675517",
     "exception": false,
     "start_time": "2022-06-17T09:19:05.591523",
     "status": "completed"
    },
    "tags": []
   },
   "source": [
    "**Metadata**"
   ]
  },
  {
   "cell_type": "code",
   "execution_count": 6,
   "id": "564521ec",
   "metadata": {
    "execution": {
     "iopub.execute_input": "2022-06-17T09:19:05.832473Z",
     "iopub.status.busy": "2022-06-17T09:19:05.832160Z",
     "iopub.status.idle": "2022-06-17T09:19:05.853074Z",
     "shell.execute_reply": "2022-06-17T09:19:05.852453Z"
    },
    "papermill": {
     "duration": 0.10187,
     "end_time": "2022-06-17T09:19:05.855333",
     "exception": false,
     "start_time": "2022-06-17T09:19:05.753463",
     "status": "completed"
    },
    "tags": []
   },
   "outputs": [],
   "source": [
    "# Metadata\n",
    "def preprocessing(df, subset=\"train\"):\n",
    "    #--------------------------------------------------------------------------\n",
    "    df[\"case\"] = df[\"id\"].apply(lambda x: int(x.split(\"_\")[0].replace(\"case\", \"\")))\n",
    "    df[\"day\"] = df[\"id\"].apply(lambda x: int(x.split(\"_\")[1].replace(\"day\", \"\")))\n",
    "    df[\"slice\"] = df[\"id\"].apply(lambda x: x.split(\"_\")[3])\n",
    "    #--------------------------------------------------------------------------\n",
    "    if (subset==\"train\") or (DEBUG):\n",
    "        DIR=\"/Users/yunjaewon/tensorflow/uw-madison-gi-tract-image-segmentation/train\"\n",
    "    else:\n",
    "        DIR=\"/Users/yunjaewon/tensorflow/uw-madison-gi-tract-image-segmentation/test\"\n",
    "    \n",
    "    all_images = glob(os.path.join(DIR, \"**\", \"*.png\"), recursive=True)\n",
    "    x = all_images[0].rsplit(\"/\", 4)[0] ## ../input/uw-madison-gi-tract-image-segmentation/train\n",
    "\n",
    "    path_partial_list = []\n",
    "    for i in range(0, df.shape[0]):\n",
    "        path_partial_list.append(os.path.join(x,\n",
    "                              \"case\"+str(df[\"case\"].values[i]),\n",
    "                              \"case\"+str(df[\"case\"].values[i])+\"_\"+ \"day\"+str(df[\"day\"].values[i]),\n",
    "                              \"scans\",\n",
    "                              \"slice_\"+str(df[\"slice\"].values[i])))\n",
    "    df[\"path_partial\"] = path_partial_list\n",
    "    #--------------------------------------------------------------------------\n",
    "    path_partial_list = []\n",
    "    for i in range(0, len(all_images)):\n",
    "        path_partial_list.append(str(all_images[i].rsplit(\"_\",4)[0]))\n",
    "\n",
    "    tmp_df = pd.DataFrame()\n",
    "    tmp_df['path_partial'] = path_partial_list\n",
    "    tmp_df['path'] = all_images\n",
    "\n",
    "    #--------------------------------------------------------------------------\n",
    "    df = df.merge(tmp_df, on=\"path_partial\").drop(columns=[\"path_partial\"])\n",
    "    #--------------------------------------------------------------------------\n",
    "    df[\"width\"] = df[\"path\"].apply(lambda x: int(x[:-4].rsplit(\"_\",4)[1]))\n",
    "    df[\"height\"] = df[\"path\"].apply(lambda x: int(x[:-4].rsplit(\"_\",4)[2]))\n",
    "    #--------------------------------------------------------------------------\n",
    "    del x, path_partial_list, tmp_df\n",
    "    #--------------------------------------------------------------------------\n",
    "    \n",
    "    return df"
   ]
  },
  {
   "cell_type": "code",
   "execution_count": 7,
   "id": "2e1004c9",
   "metadata": {
    "execution": {
     "iopub.execute_input": "2022-06-17T09:19:06.011200Z",
     "iopub.status.busy": "2022-06-17T09:19:06.010872Z",
     "iopub.status.idle": "2022-06-17T09:19:15.210629Z",
     "shell.execute_reply": "2022-06-17T09:19:15.209960Z"
    },
    "papermill": {
     "duration": 9.279625,
     "end_time": "2022-06-17T09:19:15.212377",
     "exception": false,
     "start_time": "2022-06-17T09:19:05.932752",
     "status": "completed"
    },
    "tags": []
   },
   "outputs": [
    {
     "data": {
      "text/html": [
       "<div>\n",
       "<style scoped>\n",
       "    .dataframe tbody tr th:only-of-type {\n",
       "        vertical-align: middle;\n",
       "    }\n",
       "\n",
       "    .dataframe tbody tr th {\n",
       "        vertical-align: top;\n",
       "    }\n",
       "\n",
       "    .dataframe thead th {\n",
       "        text-align: right;\n",
       "    }\n",
       "</style>\n",
       "<table border=\"1\" class=\"dataframe\">\n",
       "  <thead>\n",
       "    <tr style=\"text-align: right;\">\n",
       "      <th></th>\n",
       "      <th>id</th>\n",
       "      <th>class</th>\n",
       "      <th>segmentation</th>\n",
       "      <th>case</th>\n",
       "      <th>day</th>\n",
       "      <th>slice</th>\n",
       "      <th>path</th>\n",
       "      <th>width</th>\n",
       "      <th>height</th>\n",
       "    </tr>\n",
       "  </thead>\n",
       "  <tbody>\n",
       "    <tr>\n",
       "      <th>0</th>\n",
       "      <td>case123_day20_slice_0001</td>\n",
       "      <td>large_bowel</td>\n",
       "      <td>NaN</td>\n",
       "      <td>123</td>\n",
       "      <td>20</td>\n",
       "      <td>0001</td>\n",
       "      <td>/Users/yunjaewon/tensorflow/uw-madison-gi-trac...</td>\n",
       "      <td>266</td>\n",
       "      <td>266</td>\n",
       "    </tr>\n",
       "    <tr>\n",
       "      <th>1</th>\n",
       "      <td>case123_day20_slice_0001</td>\n",
       "      <td>small_bowel</td>\n",
       "      <td>NaN</td>\n",
       "      <td>123</td>\n",
       "      <td>20</td>\n",
       "      <td>0001</td>\n",
       "      <td>/Users/yunjaewon/tensorflow/uw-madison-gi-trac...</td>\n",
       "      <td>266</td>\n",
       "      <td>266</td>\n",
       "    </tr>\n",
       "    <tr>\n",
       "      <th>2</th>\n",
       "      <td>case123_day20_slice_0001</td>\n",
       "      <td>stomach</td>\n",
       "      <td>NaN</td>\n",
       "      <td>123</td>\n",
       "      <td>20</td>\n",
       "      <td>0001</td>\n",
       "      <td>/Users/yunjaewon/tensorflow/uw-madison-gi-trac...</td>\n",
       "      <td>266</td>\n",
       "      <td>266</td>\n",
       "    </tr>\n",
       "    <tr>\n",
       "      <th>3</th>\n",
       "      <td>case123_day20_slice_0002</td>\n",
       "      <td>large_bowel</td>\n",
       "      <td>NaN</td>\n",
       "      <td>123</td>\n",
       "      <td>20</td>\n",
       "      <td>0002</td>\n",
       "      <td>/Users/yunjaewon/tensorflow/uw-madison-gi-trac...</td>\n",
       "      <td>266</td>\n",
       "      <td>266</td>\n",
       "    </tr>\n",
       "    <tr>\n",
       "      <th>4</th>\n",
       "      <td>case123_day20_slice_0002</td>\n",
       "      <td>small_bowel</td>\n",
       "      <td>NaN</td>\n",
       "      <td>123</td>\n",
       "      <td>20</td>\n",
       "      <td>0002</td>\n",
       "      <td>/Users/yunjaewon/tensorflow/uw-madison-gi-trac...</td>\n",
       "      <td>266</td>\n",
       "      <td>266</td>\n",
       "    </tr>\n",
       "  </tbody>\n",
       "</table>\n",
       "</div>"
      ],
      "text/plain": [
       "                         id        class segmentation  case  day slice  \\\n",
       "0  case123_day20_slice_0001  large_bowel          NaN   123   20  0001   \n",
       "1  case123_day20_slice_0001  small_bowel          NaN   123   20  0001   \n",
       "2  case123_day20_slice_0001      stomach          NaN   123   20  0001   \n",
       "3  case123_day20_slice_0002  large_bowel          NaN   123   20  0002   \n",
       "4  case123_day20_slice_0002  small_bowel          NaN   123   20  0002   \n",
       "\n",
       "                                                path  width  height  \n",
       "0  /Users/yunjaewon/tensorflow/uw-madison-gi-trac...    266     266  \n",
       "1  /Users/yunjaewon/tensorflow/uw-madison-gi-trac...    266     266  \n",
       "2  /Users/yunjaewon/tensorflow/uw-madison-gi-trac...    266     266  \n",
       "3  /Users/yunjaewon/tensorflow/uw-madison-gi-trac...    266     266  \n",
       "4  /Users/yunjaewon/tensorflow/uw-madison-gi-trac...    266     266  "
      ]
     },
     "execution_count": 7,
     "metadata": {},
     "output_type": "execute_result"
    }
   ],
   "source": [
    "train_df = preprocessing(train_df, subset=\"train\")\n",
    "train_df.head()"
   ]
  },
  {
   "cell_type": "code",
   "execution_count": 8,
   "id": "790ece32",
   "metadata": {
    "execution": {
     "iopub.execute_input": "2022-06-17T09:19:15.308242Z",
     "iopub.status.busy": "2022-06-17T09:19:15.307805Z",
     "iopub.status.idle": "2022-06-17T09:19:16.368575Z",
     "shell.execute_reply": "2022-06-17T09:19:16.367905Z"
    },
    "papermill": {
     "duration": 1.11057,
     "end_time": "2022-06-17T09:19:16.370272",
     "exception": false,
     "start_time": "2022-06-17T09:19:15.259702",
     "status": "completed"
    },
    "tags": []
   },
   "outputs": [
    {
     "data": {
      "text/html": [
       "<div>\n",
       "<style scoped>\n",
       "    .dataframe tbody tr th:only-of-type {\n",
       "        vertical-align: middle;\n",
       "    }\n",
       "\n",
       "    .dataframe tbody tr th {\n",
       "        vertical-align: top;\n",
       "    }\n",
       "\n",
       "    .dataframe thead th {\n",
       "        text-align: right;\n",
       "    }\n",
       "</style>\n",
       "<table border=\"1\" class=\"dataframe\">\n",
       "  <thead>\n",
       "    <tr style=\"text-align: right;\">\n",
       "      <th></th>\n",
       "      <th>id</th>\n",
       "      <th>class</th>\n",
       "      <th>predicted</th>\n",
       "      <th>case</th>\n",
       "      <th>day</th>\n",
       "      <th>slice</th>\n",
       "      <th>path</th>\n",
       "      <th>width</th>\n",
       "      <th>height</th>\n",
       "    </tr>\n",
       "  </thead>\n",
       "  <tbody>\n",
       "    <tr>\n",
       "      <th>0</th>\n",
       "      <td>case123_day20_slice_0001</td>\n",
       "      <td>large_bowel</td>\n",
       "      <td></td>\n",
       "      <td>123</td>\n",
       "      <td>20</td>\n",
       "      <td>0001</td>\n",
       "      <td>/Users/yunjaewon/tensorflow/uw-madison-gi-trac...</td>\n",
       "      <td>266</td>\n",
       "      <td>266</td>\n",
       "    </tr>\n",
       "    <tr>\n",
       "      <th>1</th>\n",
       "      <td>case123_day20_slice_0001</td>\n",
       "      <td>small_bowel</td>\n",
       "      <td></td>\n",
       "      <td>123</td>\n",
       "      <td>20</td>\n",
       "      <td>0001</td>\n",
       "      <td>/Users/yunjaewon/tensorflow/uw-madison-gi-trac...</td>\n",
       "      <td>266</td>\n",
       "      <td>266</td>\n",
       "    </tr>\n",
       "    <tr>\n",
       "      <th>2</th>\n",
       "      <td>case123_day20_slice_0001</td>\n",
       "      <td>stomach</td>\n",
       "      <td></td>\n",
       "      <td>123</td>\n",
       "      <td>20</td>\n",
       "      <td>0001</td>\n",
       "      <td>/Users/yunjaewon/tensorflow/uw-madison-gi-trac...</td>\n",
       "      <td>266</td>\n",
       "      <td>266</td>\n",
       "    </tr>\n",
       "    <tr>\n",
       "      <th>3</th>\n",
       "      <td>case123_day20_slice_0002</td>\n",
       "      <td>large_bowel</td>\n",
       "      <td></td>\n",
       "      <td>123</td>\n",
       "      <td>20</td>\n",
       "      <td>0002</td>\n",
       "      <td>/Users/yunjaewon/tensorflow/uw-madison-gi-trac...</td>\n",
       "      <td>266</td>\n",
       "      <td>266</td>\n",
       "    </tr>\n",
       "    <tr>\n",
       "      <th>4</th>\n",
       "      <td>case123_day20_slice_0002</td>\n",
       "      <td>small_bowel</td>\n",
       "      <td></td>\n",
       "      <td>123</td>\n",
       "      <td>20</td>\n",
       "      <td>0002</td>\n",
       "      <td>/Users/yunjaewon/tensorflow/uw-madison-gi-trac...</td>\n",
       "      <td>266</td>\n",
       "      <td>266</td>\n",
       "    </tr>\n",
       "  </tbody>\n",
       "</table>\n",
       "</div>"
      ],
      "text/plain": [
       "                         id        class predicted  case  day slice  \\\n",
       "0  case123_day20_slice_0001  large_bowel             123   20  0001   \n",
       "1  case123_day20_slice_0001  small_bowel             123   20  0001   \n",
       "2  case123_day20_slice_0001      stomach             123   20  0001   \n",
       "3  case123_day20_slice_0002  large_bowel             123   20  0002   \n",
       "4  case123_day20_slice_0002  small_bowel             123   20  0002   \n",
       "\n",
       "                                                path  width  height  \n",
       "0  /Users/yunjaewon/tensorflow/uw-madison-gi-trac...    266     266  \n",
       "1  /Users/yunjaewon/tensorflow/uw-madison-gi-trac...    266     266  \n",
       "2  /Users/yunjaewon/tensorflow/uw-madison-gi-trac...    266     266  \n",
       "3  /Users/yunjaewon/tensorflow/uw-madison-gi-trac...    266     266  \n",
       "4  /Users/yunjaewon/tensorflow/uw-madison-gi-trac...    266     266  "
      ]
     },
     "execution_count": 8,
     "metadata": {},
     "output_type": "execute_result"
    }
   ],
   "source": [
    "test_df=preprocessing(test_df, subset=\"test\")\n",
    "test_df.head()"
   ]
  },
  {
   "cell_type": "markdown",
   "id": "b1258531",
   "metadata": {
    "papermill": {
     "duration": 0.049498,
     "end_time": "2022-06-17T09:19:16.468318",
     "exception": false,
     "start_time": "2022-06-17T09:19:16.418820",
     "status": "completed"
    },
    "tags": []
   },
   "source": [
    "**Restructure df**"
   ]
  },
  {
   "cell_type": "code",
   "execution_count": 9,
   "id": "f2b12cb7",
   "metadata": {
    "execution": {
     "iopub.execute_input": "2022-06-17T09:19:16.565865Z",
     "iopub.status.busy": "2022-06-17T09:19:16.565653Z",
     "iopub.status.idle": "2022-06-17T09:19:16.573886Z",
     "shell.execute_reply": "2022-06-17T09:19:16.573173Z"
    },
    "papermill": {
     "duration": 0.058668,
     "end_time": "2022-06-17T09:19:16.575486",
     "exception": false,
     "start_time": "2022-06-17T09:19:16.516818",
     "status": "completed"
    },
    "tags": []
   },
   "outputs": [],
   "source": [
    "# Restructure\n",
    "def restructure(df, subset=\"train\"):\n",
    "    # RESTRUCTURE  DATAFRAME\n",
    "    df_out = pd.DataFrame({'id': df['id'][::3]})\n",
    "\n",
    "    if subset==\"train\":\n",
    "        df_out['large_bowel'] = df['segmentation'][::3].values\n",
    "        df_out['small_bowel'] = df['segmentation'][1::3].values\n",
    "        df_out['stomach'] = df['segmentation'][2::3].values\n",
    "\n",
    "    df_out['path'] = df['path'][::3].values\n",
    "    df_out['case'] = df['case'][::3].values\n",
    "    df_out['day'] = df['day'][::3].values\n",
    "    df_out['slice'] = df['slice'][::3].values\n",
    "    df_out['width'] = df['width'][::3].values\n",
    "    df_out['height'] = df['height'][::3].values\n",
    "\n",
    "    df_out=df_out.reset_index(drop=True)\n",
    "    df_out=df_out.fillna('')\n",
    "    if subset==\"train\":\n",
    "        df_out['count'] = np.sum(df_out.iloc[:,1:4]!='',axis=1).values\n",
    "    \n",
    "    return df_out"
   ]
  },
  {
   "cell_type": "code",
   "execution_count": 10,
   "id": "3af77468",
   "metadata": {
    "execution": {
     "iopub.execute_input": "2022-06-17T09:19:16.673944Z",
     "iopub.status.busy": "2022-06-17T09:19:16.673749Z",
     "iopub.status.idle": "2022-06-17T09:19:16.737761Z",
     "shell.execute_reply": "2022-06-17T09:19:16.736974Z"
    },
    "papermill": {
     "duration": 0.115248,
     "end_time": "2022-06-17T09:19:16.739863",
     "exception": false,
     "start_time": "2022-06-17T09:19:16.624615",
     "status": "completed"
    },
    "tags": []
   },
   "outputs": [
    {
     "data": {
      "text/html": [
       "<div>\n",
       "<style scoped>\n",
       "    .dataframe tbody tr th:only-of-type {\n",
       "        vertical-align: middle;\n",
       "    }\n",
       "\n",
       "    .dataframe tbody tr th {\n",
       "        vertical-align: top;\n",
       "    }\n",
       "\n",
       "    .dataframe thead th {\n",
       "        text-align: right;\n",
       "    }\n",
       "</style>\n",
       "<table border=\"1\" class=\"dataframe\">\n",
       "  <thead>\n",
       "    <tr style=\"text-align: right;\">\n",
       "      <th></th>\n",
       "      <th>id</th>\n",
       "      <th>large_bowel</th>\n",
       "      <th>small_bowel</th>\n",
       "      <th>stomach</th>\n",
       "      <th>path</th>\n",
       "      <th>case</th>\n",
       "      <th>day</th>\n",
       "      <th>slice</th>\n",
       "      <th>width</th>\n",
       "      <th>height</th>\n",
       "      <th>count</th>\n",
       "    </tr>\n",
       "  </thead>\n",
       "  <tbody>\n",
       "    <tr>\n",
       "      <th>0</th>\n",
       "      <td>case123_day20_slice_0001</td>\n",
       "      <td></td>\n",
       "      <td></td>\n",
       "      <td></td>\n",
       "      <td>/Users/yunjaewon/tensorflow/uw-madison-gi-trac...</td>\n",
       "      <td>123</td>\n",
       "      <td>20</td>\n",
       "      <td>0001</td>\n",
       "      <td>266</td>\n",
       "      <td>266</td>\n",
       "      <td>0</td>\n",
       "    </tr>\n",
       "    <tr>\n",
       "      <th>1</th>\n",
       "      <td>case123_day20_slice_0002</td>\n",
       "      <td></td>\n",
       "      <td></td>\n",
       "      <td></td>\n",
       "      <td>/Users/yunjaewon/tensorflow/uw-madison-gi-trac...</td>\n",
       "      <td>123</td>\n",
       "      <td>20</td>\n",
       "      <td>0002</td>\n",
       "      <td>266</td>\n",
       "      <td>266</td>\n",
       "      <td>0</td>\n",
       "    </tr>\n",
       "    <tr>\n",
       "      <th>2</th>\n",
       "      <td>case123_day20_slice_0003</td>\n",
       "      <td></td>\n",
       "      <td></td>\n",
       "      <td></td>\n",
       "      <td>/Users/yunjaewon/tensorflow/uw-madison-gi-trac...</td>\n",
       "      <td>123</td>\n",
       "      <td>20</td>\n",
       "      <td>0003</td>\n",
       "      <td>266</td>\n",
       "      <td>266</td>\n",
       "      <td>0</td>\n",
       "    </tr>\n",
       "    <tr>\n",
       "      <th>3</th>\n",
       "      <td>case123_day20_slice_0004</td>\n",
       "      <td></td>\n",
       "      <td></td>\n",
       "      <td></td>\n",
       "      <td>/Users/yunjaewon/tensorflow/uw-madison-gi-trac...</td>\n",
       "      <td>123</td>\n",
       "      <td>20</td>\n",
       "      <td>0004</td>\n",
       "      <td>266</td>\n",
       "      <td>266</td>\n",
       "      <td>0</td>\n",
       "    </tr>\n",
       "    <tr>\n",
       "      <th>4</th>\n",
       "      <td>case123_day20_slice_0005</td>\n",
       "      <td></td>\n",
       "      <td></td>\n",
       "      <td></td>\n",
       "      <td>/Users/yunjaewon/tensorflow/uw-madison-gi-trac...</td>\n",
       "      <td>123</td>\n",
       "      <td>20</td>\n",
       "      <td>0005</td>\n",
       "      <td>266</td>\n",
       "      <td>266</td>\n",
       "      <td>0</td>\n",
       "    </tr>\n",
       "  </tbody>\n",
       "</table>\n",
       "</div>"
      ],
      "text/plain": [
       "                         id large_bowel small_bowel stomach  \\\n",
       "0  case123_day20_slice_0001                                   \n",
       "1  case123_day20_slice_0002                                   \n",
       "2  case123_day20_slice_0003                                   \n",
       "3  case123_day20_slice_0004                                   \n",
       "4  case123_day20_slice_0005                                   \n",
       "\n",
       "                                                path  case  day slice  width  \\\n",
       "0  /Users/yunjaewon/tensorflow/uw-madison-gi-trac...   123   20  0001    266   \n",
       "1  /Users/yunjaewon/tensorflow/uw-madison-gi-trac...   123   20  0002    266   \n",
       "2  /Users/yunjaewon/tensorflow/uw-madison-gi-trac...   123   20  0003    266   \n",
       "3  /Users/yunjaewon/tensorflow/uw-madison-gi-trac...   123   20  0004    266   \n",
       "4  /Users/yunjaewon/tensorflow/uw-madison-gi-trac...   123   20  0005    266   \n",
       "\n",
       "   height  count  \n",
       "0     266      0  \n",
       "1     266      0  \n",
       "2     266      0  \n",
       "3     266      0  \n",
       "4     266      0  "
      ]
     },
     "execution_count": 10,
     "metadata": {},
     "output_type": "execute_result"
    }
   ],
   "source": [
    "train_df=restructure(train_df, subset=\"train\")\n",
    "train_df.head()"
   ]
  },
  {
   "cell_type": "code",
   "execution_count": 11,
   "id": "62b29086",
   "metadata": {
    "execution": {
     "iopub.execute_input": "2022-06-17T09:19:16.838333Z",
     "iopub.status.busy": "2022-06-17T09:19:16.838137Z",
     "iopub.status.idle": "2022-06-17T09:19:16.852284Z",
     "shell.execute_reply": "2022-06-17T09:19:16.851657Z"
    },
    "papermill": {
     "duration": 0.065603,
     "end_time": "2022-06-17T09:19:16.853972",
     "exception": false,
     "start_time": "2022-06-17T09:19:16.788369",
     "status": "completed"
    },
    "tags": []
   },
   "outputs": [
    {
     "data": {
      "text/html": [
       "<div>\n",
       "<style scoped>\n",
       "    .dataframe tbody tr th:only-of-type {\n",
       "        vertical-align: middle;\n",
       "    }\n",
       "\n",
       "    .dataframe tbody tr th {\n",
       "        vertical-align: top;\n",
       "    }\n",
       "\n",
       "    .dataframe thead th {\n",
       "        text-align: right;\n",
       "    }\n",
       "</style>\n",
       "<table border=\"1\" class=\"dataframe\">\n",
       "  <thead>\n",
       "    <tr style=\"text-align: right;\">\n",
       "      <th></th>\n",
       "      <th>id</th>\n",
       "      <th>path</th>\n",
       "      <th>case</th>\n",
       "      <th>day</th>\n",
       "      <th>slice</th>\n",
       "      <th>width</th>\n",
       "      <th>height</th>\n",
       "    </tr>\n",
       "  </thead>\n",
       "  <tbody>\n",
       "    <tr>\n",
       "      <th>0</th>\n",
       "      <td>case123_day20_slice_0001</td>\n",
       "      <td>/Users/yunjaewon/tensorflow/uw-madison-gi-trac...</td>\n",
       "      <td>123</td>\n",
       "      <td>20</td>\n",
       "      <td>0001</td>\n",
       "      <td>266</td>\n",
       "      <td>266</td>\n",
       "    </tr>\n",
       "    <tr>\n",
       "      <th>1</th>\n",
       "      <td>case123_day20_slice_0002</td>\n",
       "      <td>/Users/yunjaewon/tensorflow/uw-madison-gi-trac...</td>\n",
       "      <td>123</td>\n",
       "      <td>20</td>\n",
       "      <td>0002</td>\n",
       "      <td>266</td>\n",
       "      <td>266</td>\n",
       "    </tr>\n",
       "    <tr>\n",
       "      <th>2</th>\n",
       "      <td>case123_day20_slice_0003</td>\n",
       "      <td>/Users/yunjaewon/tensorflow/uw-madison-gi-trac...</td>\n",
       "      <td>123</td>\n",
       "      <td>20</td>\n",
       "      <td>0003</td>\n",
       "      <td>266</td>\n",
       "      <td>266</td>\n",
       "    </tr>\n",
       "    <tr>\n",
       "      <th>3</th>\n",
       "      <td>case123_day20_slice_0004</td>\n",
       "      <td>/Users/yunjaewon/tensorflow/uw-madison-gi-trac...</td>\n",
       "      <td>123</td>\n",
       "      <td>20</td>\n",
       "      <td>0004</td>\n",
       "      <td>266</td>\n",
       "      <td>266</td>\n",
       "    </tr>\n",
       "    <tr>\n",
       "      <th>4</th>\n",
       "      <td>case123_day20_slice_0005</td>\n",
       "      <td>/Users/yunjaewon/tensorflow/uw-madison-gi-trac...</td>\n",
       "      <td>123</td>\n",
       "      <td>20</td>\n",
       "      <td>0005</td>\n",
       "      <td>266</td>\n",
       "      <td>266</td>\n",
       "    </tr>\n",
       "  </tbody>\n",
       "</table>\n",
       "</div>"
      ],
      "text/plain": [
       "                         id  \\\n",
       "0  case123_day20_slice_0001   \n",
       "1  case123_day20_slice_0002   \n",
       "2  case123_day20_slice_0003   \n",
       "3  case123_day20_slice_0004   \n",
       "4  case123_day20_slice_0005   \n",
       "\n",
       "                                                path  case  day slice  width  \\\n",
       "0  /Users/yunjaewon/tensorflow/uw-madison-gi-trac...   123   20  0001    266   \n",
       "1  /Users/yunjaewon/tensorflow/uw-madison-gi-trac...   123   20  0002    266   \n",
       "2  /Users/yunjaewon/tensorflow/uw-madison-gi-trac...   123   20  0003    266   \n",
       "3  /Users/yunjaewon/tensorflow/uw-madison-gi-trac...   123   20  0004    266   \n",
       "4  /Users/yunjaewon/tensorflow/uw-madison-gi-trac...   123   20  0005    266   \n",
       "\n",
       "   height  \n",
       "0     266  \n",
       "1     266  \n",
       "2     266  \n",
       "3     266  \n",
       "4     266  "
      ]
     },
     "execution_count": 11,
     "metadata": {},
     "output_type": "execute_result"
    }
   ],
   "source": [
    "test_df=restructure(test_df, subset=\"test\")\n",
    "test_df.head()"
   ]
  },
  {
   "cell_type": "markdown",
   "id": "91710fad",
   "metadata": {
    "papermill": {
     "duration": 0.0496,
     "end_time": "2022-06-17T09:19:16.952748",
     "exception": false,
     "start_time": "2022-06-17T09:19:16.903148",
     "status": "completed"
    },
    "tags": []
   },
   "source": [
    "**Remove mislabelled data**"
   ]
  },
  {
   "cell_type": "code",
   "execution_count": 12,
   "id": "17feab7f",
   "metadata": {
    "execution": {
     "iopub.execute_input": "2022-06-17T09:19:17.052092Z",
     "iopub.status.busy": "2022-06-17T09:19:17.051774Z",
     "iopub.status.idle": "2022-06-17T09:19:17.078709Z",
     "shell.execute_reply": "2022-06-17T09:19:17.078035Z"
    },
    "papermill": {
     "duration": 0.078351,
     "end_time": "2022-06-17T09:19:17.080604",
     "exception": false,
     "start_time": "2022-06-17T09:19:17.002253",
     "status": "completed"
    },
    "tags": []
   },
   "outputs": [],
   "source": [
    "# Remove mislabeled training data\n",
    "train_df = train_df[(train_df['case']!=7)|(train_df['day']!=0)].reset_index(drop=True)\n",
    "train_df = train_df[(train_df['case']!=81)|(train_df['day']!=30)].reset_index(drop=True)"
   ]
  },
  {
   "cell_type": "code",
   "execution_count": 13,
   "id": "8a89b9ba",
   "metadata": {
    "execution": {
     "iopub.execute_input": "2022-06-17T09:19:17.180137Z",
     "iopub.status.busy": "2022-06-17T09:19:17.179916Z",
     "iopub.status.idle": "2022-06-17T09:19:17.335973Z",
     "shell.execute_reply": "2022-06-17T09:19:17.335184Z"
    },
    "papermill": {
     "duration": 0.207745,
     "end_time": "2022-06-17T09:19:17.337786",
     "exception": false,
     "start_time": "2022-06-17T09:19:17.130041",
     "status": "completed"
    },
    "tags": []
   },
   "outputs": [
    {
     "data": {
      "text/plain": [
       "22"
      ]
     },
     "execution_count": 13,
     "metadata": {},
     "output_type": "execute_result"
    }
   ],
   "source": [
    "# Garbage collection\n",
    "gc.collect()"
   ]
  },
  {
   "cell_type": "markdown",
   "id": "f9b89209",
   "metadata": {
    "papermill": {
     "duration": 0.048865,
     "end_time": "2022-06-17T09:19:17.435930",
     "exception": false,
     "start_time": "2022-06-17T09:19:17.387065",
     "status": "completed"
    },
    "tags": []
   },
   "source": [
    "# Helper functions"
   ]
  },
  {
   "cell_type": "markdown",
   "id": "74fb86c0",
   "metadata": {
    "papermill": {
     "duration": 0.048922,
     "end_time": "2022-06-17T09:19:17.533819",
     "exception": false,
     "start_time": "2022-06-17T09:19:17.484897",
     "status": "completed"
    },
    "tags": []
   },
   "source": [
    "**RLE encoding**"
   ]
  },
  {
   "cell_type": "code",
   "execution_count": 14,
   "id": "236058df",
   "metadata": {
    "execution": {
     "iopub.execute_input": "2022-06-17T09:19:17.633819Z",
     "iopub.status.busy": "2022-06-17T09:19:17.633614Z",
     "iopub.status.idle": "2022-06-17T09:19:17.641804Z",
     "shell.execute_reply": "2022-06-17T09:19:17.641174Z"
    },
    "papermill": {
     "duration": 0.060778,
     "end_time": "2022-06-17T09:19:17.643534",
     "exception": false,
     "start_time": "2022-06-17T09:19:17.582756",
     "status": "completed"
    },
    "tags": []
   },
   "outputs": [],
   "source": [
    "# Run-length encoding\n",
    "def rle_encode(img):\n",
    "    '''\n",
    "    img: numpy array, 1 - mask, 0 - background\n",
    "    Returns run length as string formated\n",
    "    '''\n",
    "    pixels = img.flatten()\n",
    "    pixels = np.concatenate([[0], pixels, [0]])\n",
    "    runs = np.where(pixels[1:] != pixels[:-1])[0] + 1\n",
    "    runs[1::2] -= runs[::2]\n",
    "    return ' '.join(str(x) for x in runs)\n",
    "\n",
    "def rle_decode(mask_rle, shape, color=1):\n",
    "    '''\n",
    "    mask_rle: run-length as string formated (start length)\n",
    "    shape: (height,width) of array to return \n",
    "    Returns numpy array, 1 - mask, 0 - background\n",
    "\n",
    "    '''\n",
    "    s = mask_rle.split()\n",
    "    starts, lengths = [np.asarray(x, dtype=int) for x in (s[0:][::2], s[1:][::2])]\n",
    "    starts -= 1\n",
    "    ends = starts + lengths\n",
    "    img = np.zeros((shape[0] * shape[1], shape[2]), dtype=np.float32)\n",
    "    for lo, hi in zip(starts, ends):\n",
    "        img[lo : hi] = color\n",
    "    return img.reshape(shape)"
   ]
  },
  {
   "cell_type": "markdown",
   "id": "dcaa2a55",
   "metadata": {
    "papermill": {
     "duration": 0.048658,
     "end_time": "2022-06-17T09:19:17.741473",
     "exception": false,
     "start_time": "2022-06-17T09:19:17.692815",
     "status": "completed"
    },
    "tags": []
   },
   "source": [
    "**Metrics**"
   ]
  },
  {
   "cell_type": "code",
   "execution_count": 15,
   "id": "ad85e087",
   "metadata": {
    "execution": {
     "iopub.execute_input": "2022-06-17T09:19:17.840806Z",
     "iopub.status.busy": "2022-06-17T09:19:17.840584Z",
     "iopub.status.idle": "2022-06-17T09:19:17.849423Z",
     "shell.execute_reply": "2022-06-17T09:19:17.848689Z"
    },
    "papermill": {
     "duration": 0.060798,
     "end_time": "2022-06-17T09:19:17.851079",
     "exception": false,
     "start_time": "2022-06-17T09:19:17.790281",
     "status": "completed"
    },
    "tags": []
   },
   "outputs": [],
   "source": [
    "# Metrics\n",
    "def dice_coef(y_true, y_pred, smooth=1):\n",
    "    y_true_f = K.flatten(y_true)\n",
    "    y_pred_f = K.flatten(y_pred)\n",
    "    intersection = K.sum(y_true_f * y_pred_f)\n",
    "    return (2. * intersection + smooth) / (K.sum(y_true_f) + K.sum(y_pred_f) + smooth)\n",
    "\n",
    "def iou_coef(y_true, y_pred, smooth=1):\n",
    "    intersection = K.sum(K.abs(y_true * y_pred), axis=[1,2,3])\n",
    "    union = K.sum(y_true,[1,2,3])+K.sum(y_pred,[1,2,3])-intersection\n",
    "    iou = K.mean((intersection + smooth) / (union + smooth), axis=0)\n",
    "    return iou\n",
    "\n",
    "def dice_loss(y_true, y_pred):\n",
    "    smooth = 1.\n",
    "    y_true_f = K.flatten(y_true)\n",
    "    y_pred_f = K.flatten(y_pred)\n",
    "    intersection = y_true_f * y_pred_f\n",
    "    score = (2. * K.sum(intersection) + smooth) / (K.sum(y_true_f) + K.sum(y_pred_f) + smooth)\n",
    "    return 1. - score\n",
    "\n",
    "def bce_dice_loss(y_true, y_pred):\n",
    "    return binary_crossentropy(tf.cast(y_true, tf.float32), y_pred) + dice_loss(tf.cast(y_true, tf.float32), y_pred)"
   ]
  },
  {
   "cell_type": "markdown",
   "id": "e30148f2",
   "metadata": {
    "papermill": {
     "duration": 0.050349,
     "end_time": "2022-06-17T09:19:17.950454",
     "exception": false,
     "start_time": "2022-06-17T09:19:17.900105",
     "status": "completed"
    },
    "tags": []
   },
   "source": [
    "**Data generator**"
   ]
  },
  {
   "cell_type": "code",
   "execution_count": 16,
   "id": "46ee4bdc",
   "metadata": {
    "execution": {
     "iopub.execute_input": "2022-06-17T09:19:18.050519Z",
     "iopub.status.busy": "2022-06-17T09:19:18.050314Z",
     "iopub.status.idle": "2022-06-17T09:19:18.391052Z",
     "shell.execute_reply": "2022-06-17T09:19:18.390356Z"
    },
    "papermill": {
     "duration": 0.393338,
     "end_time": "2022-06-17T09:19:18.393207",
     "exception": false,
     "start_time": "2022-06-17T09:19:17.999869",
     "status": "completed"
    },
    "tags": []
   },
   "outputs": [],
   "source": [
    "# Images reshaped to (im_height,im_width)\n",
    "class DataGenerator(tf.keras.utils.Sequence):\n",
    "    def __init__(self, df, batch_size = BATCH_SIZE, subset=\"train\", shuffle=False):\n",
    "        super().__init__()\n",
    "        self.df = df\n",
    "        self.shuffle = shuffle\n",
    "        self.subset = subset\n",
    "        self.batch_size = batch_size\n",
    "        self.indexes = np.arange(len(df))\n",
    "        self.on_epoch_end()\n",
    "\n",
    "    def __len__(self):\n",
    "        return int(np.floor(len(self.df) / self.batch_size))\n",
    "    \n",
    "    def on_epoch_end(self):\n",
    "        if self.shuffle == True:\n",
    "            np.random.shuffle(self.indexes)\n",
    "    \n",
    "    def __getitem__(self, index):\n",
    "        X = np.empty((self.batch_size,im_height,im_width,3))\n",
    "        y = np.empty((self.batch_size,im_height,im_width,3))\n",
    "        indexes = self.indexes[index*self.batch_size:(index+1)*self.batch_size]\n",
    "        for i, img_path in enumerate(self.df['path'].iloc[indexes]):\n",
    "            w=self.df['width'].iloc[indexes[i]]\n",
    "            h=self.df['height'].iloc[indexes[i]]\n",
    "            img = self.__load_grayscale(img_path)  # shape: (im_height,im_width,1)\n",
    "            X[i,] = img   # broadcast to shape: (im_height,im_width,3)\n",
    "            if self.subset == 'train':\n",
    "                for k,j in enumerate([\"large_bowel\",\"small_bowel\",\"stomach\"]):\n",
    "                    rles = self.df[j].iloc[indexes[i]]\n",
    "                    mask = rle_decode(rles, shape=(h, w, 1))\n",
    "                    mask = cv2.resize(mask, (im_height,im_width))\n",
    "                    y[i,:,:,k] = mask\n",
    "        if self.subset == 'train':\n",
    "            return X, y\n",
    "        else: \n",
    "            return X\n",
    "        \n",
    "        # To do: add data augmentation\n",
    "        \n",
    "    def __load_grayscale(self, img_path):\n",
    "        img = cv2.imread(img_path, cv2.IMREAD_ANYDEPTH)\n",
    "        dsize = (im_height,im_width)\n",
    "        img = cv2.resize(img, dsize)\n",
    "        img = img.astype(np.float32) / 255.\n",
    "        img = np.expand_dims(img, axis=-1)\n",
    "        return img"
   ]
  },
  {
   "cell_type": "markdown",
   "id": "7227f50e",
   "metadata": {
    "papermill": {
     "duration": 0.048643,
     "end_time": "2022-06-17T09:19:18.491160",
     "exception": false,
     "start_time": "2022-06-17T09:19:18.442517",
     "status": "completed"
    },
    "tags": []
   },
   "source": [
    "# EDA"
   ]
  },
  {
   "cell_type": "markdown",
   "id": "c1390cae",
   "metadata": {
    "papermill": {
     "duration": 0.048849,
     "end_time": "2022-06-17T09:19:18.589240",
     "exception": false,
     "start_time": "2022-06-17T09:19:18.540391",
     "status": "completed"
    },
    "tags": []
   },
   "source": [
    "**Target distribution**"
   ]
  },
  {
   "cell_type": "code",
   "execution_count": 17,
   "id": "954ddd60",
   "metadata": {
    "execution": {
     "iopub.execute_input": "2022-06-17T09:19:18.689791Z",
     "iopub.status.busy": "2022-06-17T09:19:18.689132Z",
     "iopub.status.idle": "2022-06-17T09:19:18.914590Z",
     "shell.execute_reply": "2022-06-17T09:19:18.913935Z"
    },
    "papermill": {
     "duration": 0.277786,
     "end_time": "2022-06-17T09:19:18.916368",
     "exception": false,
     "start_time": "2022-06-17T09:19:18.638582",
     "status": "completed"
    },
    "tags": []
   },
   "outputs": [
    {
     "data": {
      "image/png": "[encoded data removed]",
      "text/plain": [
       "<Figure size 864x288 with 1 Axes>"
      ]
     },
     "metadata": {
      "needs_background": "light"
     },
     "output_type": "display_data"
    }
   ],
   "source": [
    "plt.figure(figsize=(12,4))\n",
    "bar = plt.bar([1,2,3],100*np.mean(train_df.iloc[:,1:4]!='',axis=0))\n",
    "plt.title('Percent Training Images with Mask', fontsize=16)\n",
    "plt.ylabel('Percent of Images'); plt.xlabel('Class Type')\n",
    "plt.xticks([1,2,3])\n",
    "labels=[\"large bowel\",\"small bowel\",\"stomach\"]\n",
    "for rect, lbl in zip(bar, labels):\n",
    "    height = rect.get_height()\n",
    "    plt.text(rect.get_x() + rect.get_width()/3, height,  lbl,\n",
    "             ha='center', va='bottom',fontsize=16)\n",
    "    plt.text(rect.get_x() + rect.get_width()/1.3, height, '%.1f %%' % height,\n",
    "             ha='center', va='bottom',fontsize=13)\n",
    "\n",
    "plt.ylim((0,50))\n",
    "plt.show()"
   ]
  },
  {
   "cell_type": "markdown",
   "id": "436a6803",
   "metadata": {
    "papermill": {
     "duration": 0.050513,
     "end_time": "2022-06-17T09:19:19.018243",
     "exception": false,
     "start_time": "2022-06-17T09:19:18.967730",
     "status": "completed"
    },
    "tags": []
   },
   "source": [
    "**Preview some samples**"
   ]
  },
  {
   "cell_type": "code",
   "execution_count": 18,
   "id": "c2a6e217",
   "metadata": {
    "execution": {
     "iopub.execute_input": "2022-06-17T09:19:19.120825Z",
     "iopub.status.busy": "2022-06-17T09:19:19.120609Z",
     "iopub.status.idle": "2022-06-17T09:19:21.693888Z",
     "shell.execute_reply": "2022-06-17T09:19:21.693048Z"
    },
    "papermill": {
     "duration": 2.628075,
     "end_time": "2022-06-17T09:19:21.697432",
     "exception": false,
     "start_time": "2022-06-17T09:19:19.069357",
     "status": "completed"
    },
    "tags": []
   },
   "outputs": [
    {
     "data": {
      "image/png": "[encoded data removed]",
      "text/plain": [
       "<Figure size 720x1800 with 12 Axes>"
      ]
     },
     "metadata": {
      "needs_background": "light"
     },
     "output_type": "display_data"
    }
   ],
   "source": [
    "# SAMPLES\n",
    "Masks = list(train_df[train_df['large_bowel']!=''].sample(BATCH_SIZE).index)\n",
    "Masks += list(train_df[train_df['small_bowel']!=''].sample(BATCH_SIZE*2).index)\n",
    "Masks += list(train_df[train_df['stomach']!=''].sample(BATCH_SIZE*3).index)\n",
    "\n",
    "# DATA GENERATOR\n",
    "View_batches = DataGenerator(train_df[train_df.index.isin(Masks)],shuffle=True)\n",
    "\n",
    "# Visualizing\n",
    "fig = plt.figure(figsize=(10, 25))\n",
    "gs = gridspec.GridSpec(nrows=6, ncols=2)\n",
    "colors = ['yellow','green','red']\n",
    "labels = [\"Large Bowel\", \"Small Bowel\", \"Stomach\"]\n",
    "patches = [ mpatches.Patch(color=colors[i], label=f\"{labels[i]}\") for i in range(len(labels))]\n",
    "\n",
    "cmap1 = mpl.colors.ListedColormap(colors[0])\n",
    "cmap2 = mpl.colors.ListedColormap(colors[1])\n",
    "cmap3= mpl.colors.ListedColormap(colors[2])\n",
    "\n",
    "for i in range(6):\n",
    "    images, mask = View_batches[i]\n",
    "    sample_img=images[0,:,:,0]\n",
    "    mask1=mask[0,:,:,0]\n",
    "    mask2=mask[0,:,:,1]\n",
    "    mask3=mask[0,:,:,2]\n",
    "    \n",
    "    ax0 = fig.add_subplot(gs[i, 0])\n",
    "    im = ax0.imshow(sample_img, cmap='bone')\n",
    "\n",
    "    ax1 = fig.add_subplot(gs[i, 1])\n",
    "    if i==0:\n",
    "        ax0.set_title(\"Image\", fontsize=15, weight='bold', y=1.02)\n",
    "        ax1.set_title(\"Mask\", fontsize=15, weight='bold', y=1.02)\n",
    "        plt.legend(handles=patches, bbox_to_anchor=(1.1, 0.65), loc=2, borderaxespad=0.4,fontsize = 14,title='Mask Labels', title_fontsize=14, edgecolor=\"black\",  facecolor='#c5c6c7')\n",
    "\n",
    "    l0 = ax1.imshow(sample_img, cmap='bone')\n",
    "    l1 = ax1.imshow(np.ma.masked_where(mask1== False,  mask1),cmap=cmap1, alpha=1)\n",
    "    l2 = ax1.imshow(np.ma.masked_where(mask2== False,  mask2),cmap=cmap2, alpha=1)\n",
    "    l3 = ax1.imshow(np.ma.masked_where(mask3== False,  mask3),cmap=cmap3, alpha=1)\n",
    "    _ = [ax.set_axis_off() for ax in [ax0,ax1]]\n",
    "\n",
    "    colors = [im.cmap(im.norm(1)) for im in [l1,l2, l3]]"
   ]
  },
  {
   "cell_type": "markdown",
   "id": "884804c2",
   "metadata": {
    "papermill": {
     "duration": 0.094618,
     "end_time": "2022-06-17T09:19:21.887852",
     "exception": false,
     "start_time": "2022-06-17T09:19:21.793234",
     "status": "completed"
    },
    "tags": []
   },
   "source": [
    "# Cross-validation"
   ]
  },
  {
   "cell_type": "markdown",
   "id": "9914b0fe",
   "metadata": {
    "papermill": {
     "duration": 0.05758,
     "end_time": "2022-06-17T09:19:22.008321",
     "exception": false,
     "start_time": "2022-06-17T09:19:21.950741",
     "status": "completed"
    },
    "tags": []
   },
   "source": [
    "**Group k-fold**"
   ]
  },
  {
   "cell_type": "code",
   "execution_count": 19,
   "id": "712b7c3d",
   "metadata": {
    "execution": {
     "iopub.execute_input": "2022-06-17T09:19:22.160140Z",
     "iopub.status.busy": "2022-06-17T09:19:22.159737Z",
     "iopub.status.idle": "2022-06-17T09:19:22.331002Z",
     "shell.execute_reply": "2022-06-17T09:19:22.330164Z"
    },
    "papermill": {
     "duration": 0.266972,
     "end_time": "2022-06-17T09:19:22.333005",
     "exception": false,
     "start_time": "2022-06-17T09:19:22.066033",
     "status": "completed"
    },
    "tags": []
   },
   "outputs": [
    {
     "data": {
      "text/plain": [
       "fold\n",
       "1    8496\n",
       "2    7136\n",
       "3    7392\n",
       "4    8128\n",
       "5    7056\n",
       "dtype: int64"
      ]
     },
     "execution_count": 19,
     "metadata": {},
     "output_type": "execute_result"
    }
   ],
   "source": [
    "# Group by case id\n",
    "skf = StratifiedGroupKFold(n_splits=n_splits, shuffle=True, random_state=42)\n",
    "for fold, (_, val_idx) in enumerate(skf.split(X=train_df, y=train_df['count'], groups=train_df['case']), 1):\n",
    "    train_df.loc[val_idx, 'fold'] = fold\n",
    "\n",
    "train_df['fold'] = train_df['fold'].astype(np.uint8)\n",
    "\n",
    "train_ids = train_df[train_df[\"fold\"]!=fold_selected].index\n",
    "valid_ids = train_df[train_df[\"fold\"]==fold_selected].index\n",
    "\n",
    "X_train = train_df[train_df.index.isin(train_ids)]\n",
    "X_valid = train_df[train_df.index.isin(valid_ids)]\n",
    "\n",
    "train_df.groupby('fold').size()"
   ]
  },
  {
   "cell_type": "code",
   "execution_count": 20,
   "id": "576908a7",
   "metadata": {
    "execution": {
     "iopub.execute_input": "2022-06-17T09:19:22.452801Z",
     "iopub.status.busy": "2022-06-17T09:19:22.452292Z",
     "iopub.status.idle": "2022-06-17T09:19:22.467083Z",
     "shell.execute_reply": "2022-06-17T09:19:22.466337Z"
    },
    "papermill": {
     "duration": 0.075921,
     "end_time": "2022-06-17T09:19:22.468871",
     "exception": false,
     "start_time": "2022-06-17T09:19:22.392950",
     "status": "completed"
    },
    "tags": []
   },
   "outputs": [
    {
     "data": {
      "text/plain": [
       "fold  count\n",
       "1     0        5023\n",
       "      1         504\n",
       "      2        2274\n",
       "      3         695\n",
       "2     0        4140\n",
       "      1         353\n",
       "      2        1998\n",
       "      3         645\n",
       "3     0        4164\n",
       "      1         552\n",
       "      2        2105\n",
       "      3         571\n",
       "4     0        4430\n",
       "      1         598\n",
       "      2        2390\n",
       "      3         710\n",
       "5     0        3958\n",
       "      1         449\n",
       "      2        2096\n",
       "      3         553\n",
       "Name: id, dtype: int64"
      ]
     },
     "execution_count": 20,
     "metadata": {},
     "output_type": "execute_result"
    }
   ],
   "source": [
    "# Fold sizes\n",
    "train_df.groupby(['fold','count'])['id'].count()"
   ]
  },
  {
   "cell_type": "markdown",
   "id": "3c3c0742",
   "metadata": {
    "papermill": {
     "duration": 0.05798,
     "end_time": "2022-06-17T09:19:22.584362",
     "exception": false,
     "start_time": "2022-06-17T09:19:22.526382",
     "status": "completed"
    },
    "tags": []
   },
   "source": [
    "**Debugging**"
   ]
  },
  {
   "cell_type": "code",
   "execution_count": 21,
   "id": "ebe91eb2",
   "metadata": {
    "execution": {
     "iopub.execute_input": "2022-06-17T09:19:22.702199Z",
     "iopub.status.busy": "2022-06-17T09:19:22.701986Z",
     "iopub.status.idle": "2022-06-17T09:19:22.707911Z",
     "shell.execute_reply": "2022-06-17T09:19:22.706984Z"
    },
    "papermill": {
     "duration": 0.068327,
     "end_time": "2022-06-17T09:19:22.711148",
     "exception": false,
     "start_time": "2022-06-17T09:19:22.642821",
     "status": "completed"
    },
    "tags": []
   },
   "outputs": [
    {
     "name": "stdout",
     "output_type": "stream",
     "text": [
      "X_train shape: (31072, 12)\n",
      "X_valid shape: (7136, 12)\n"
     ]
    }
   ],
   "source": [
    "# Check submission format works\n",
    "experimental=False\n",
    "if experimental:\n",
    "    X_train=X_train[X_train.case.isin(X_train.case.unique()[:5])]       # take first few cases\n",
    "    X_valid=X_valid[X_valid.case.isin(X_valid.case.unique()[:2])]       # take first few cases\n",
    "    \n",
    "print('X_train shape:', X_train.shape)\n",
    "print('X_valid shape:', X_valid.shape)"
   ]
  },
  {
   "cell_type": "markdown",
   "id": "3d560d05",
   "metadata": {
    "papermill": {
     "duration": 0.057387,
     "end_time": "2022-06-17T09:19:22.826094",
     "exception": false,
     "start_time": "2022-06-17T09:19:22.768707",
     "status": "completed"
    },
    "tags": []
   },
   "source": [
    "**Define generator**"
   ]
  },
  {
   "cell_type": "code",
   "execution_count": 22,
   "id": "0ebdd6a7",
   "metadata": {
    "execution": {
     "iopub.execute_input": "2022-06-17T09:19:22.945083Z",
     "iopub.status.busy": "2022-06-17T09:19:22.944859Z",
     "iopub.status.idle": "2022-06-17T09:19:22.949275Z",
     "shell.execute_reply": "2022-06-17T09:19:22.948621Z"
    },
    "papermill": {
     "duration": 0.066033,
     "end_time": "2022-06-17T09:19:22.950894",
     "exception": false,
     "start_time": "2022-06-17T09:19:22.884861",
     "status": "completed"
    },
    "tags": []
   },
   "outputs": [],
   "source": [
    "train_generator = DataGenerator(X_train, shuffle=True)\n",
    "val_generator = DataGenerator(X_valid)"
   ]
  },
  {
   "cell_type": "markdown",
   "id": "1f03465c",
   "metadata": {
    "papermill": {
     "duration": 0.058574,
     "end_time": "2022-06-17T09:19:23.068132",
     "exception": false,
     "start_time": "2022-06-17T09:19:23.009558",
     "status": "completed"
    },
    "tags": []
   },
   "source": [
    "# U-Net model"
   ]
  },
  {
   "cell_type": "markdown",
   "id": "7df75205",
   "metadata": {
    "papermill": {
     "duration": 0.058483,
     "end_time": "2022-06-17T09:19:23.185039",
     "exception": false,
     "start_time": "2022-06-17T09:19:23.126556",
     "status": "completed"
    },
    "tags": []
   },
   "source": [
    "**Download U-Net**"
   ]
  },
  {
   "cell_type": "code",
   "execution_count": 23,
   "id": "3c7a53c6",
   "metadata": {
    "_kg_hide-output": true,
    "execution": {
     "iopub.execute_input": "2022-06-17T09:19:23.302852Z",
     "iopub.status.busy": "2022-06-17T09:19:23.302629Z",
     "iopub.status.idle": "2022-06-17T09:19:34.497158Z",
     "shell.execute_reply": "2022-06-17T09:19:34.496311Z"
    },
    "papermill": {
     "duration": 11.255969,
     "end_time": "2022-06-17T09:19:34.499409",
     "exception": false,
     "start_time": "2022-06-17T09:19:23.243440",
     "status": "completed"
    },
    "tags": []
   },
   "outputs": [
    {
     "name": "stdout",
     "output_type": "stream",
     "text": [
      "Requirement already satisfied: segmentation-models in /Users/yunjaewon/tensorflow/env/lib/python3.8/site-packages (1.0.1)\n",
      "Requirement already satisfied: keras-applications<=1.0.8,>=1.0.7 in /Users/yunjaewon/tensorflow/env/lib/python3.8/site-packages (from segmentation-models) (1.0.8)\n",
      "Requirement already satisfied: image-classifiers==1.0.0 in /Users/yunjaewon/tensorflow/env/lib/python3.8/site-packages (from segmentation-models) (1.0.0)\n",
      "Requirement already satisfied: efficientnet==1.0.0 in /Users/yunjaewon/tensorflow/env/lib/python3.8/site-packages (from segmentation-models) (1.0.0)\n",
      "Requirement already satisfied: scikit-image in /Users/yunjaewon/tensorflow/env/lib/python3.8/site-packages (from efficientnet==1.0.0->segmentation-models) (0.19.3)\n",
      "Requirement already satisfied: numpy>=1.9.1 in /Users/yunjaewon/tensorflow/env/lib/python3.8/site-packages (from keras-applications<=1.0.8,>=1.0.7->segmentation-models) (1.22.4)\n",
      "Requirement already satisfied: h5py in /Users/yunjaewon/tensorflow/env/lib/python3.8/site-packages (from keras-applications<=1.0.8,>=1.0.7->segmentation-models) (3.6.0)\n",
      "Requirement already satisfied: packaging>=20.0 in /Users/yunjaewon/tensorflow/env/lib/python3.8/site-packages (from scikit-image->efficientnet==1.0.0->segmentation-models) (21.3)\n",
      "Requirement already satisfied: PyWavelets>=1.1.1 in /Users/yunjaewon/tensorflow/env/lib/python3.8/site-packages (from scikit-image->efficientnet==1.0.0->segmentation-models) (1.3.0)\n",
      "Requirement already satisfied: scipy>=1.4.1 in /Users/yunjaewon/tensorflow/env/lib/python3.8/site-packages (from scikit-image->efficientnet==1.0.0->segmentation-models) (1.8.1)\n",
      "Requirement already satisfied: pillow!=7.1.0,!=7.1.1,!=8.3.0,>=6.1.0 in /Users/yunjaewon/tensorflow/env/lib/python3.8/site-packages (from scikit-image->efficientnet==1.0.0->segmentation-models) (9.2.0)\n",
      "Requirement already satisfied: tifffile>=2019.7.26 in /Users/yunjaewon/tensorflow/env/lib/python3.8/site-packages (from scikit-image->efficientnet==1.0.0->segmentation-models) (2022.5.4)\n",
      "Requirement already satisfied: networkx>=2.2 in /Users/yunjaewon/tensorflow/env/lib/python3.8/site-packages (from scikit-image->efficientnet==1.0.0->segmentation-models) (2.8.4)\n",
      "Requirement already satisfied: imageio>=2.4.1 in /Users/yunjaewon/tensorflow/env/lib/python3.8/site-packages (from scikit-image->efficientnet==1.0.0->segmentation-models) (2.19.3)\n",
      "Requirement already satisfied: pyparsing!=3.0.5,>=2.0.2 in /Users/yunjaewon/tensorflow/env/lib/python3.8/site-packages (from packaging>=20.0->scikit-image->efficientnet==1.0.0->segmentation-models) (3.0.9)\n"
     ]
    }
   ],
   "source": [
    "! pip install segmentation-models"
   ]
  },
  {
   "cell_type": "code",
   "execution_count": 24,
   "id": "64ca9dee",
   "metadata": {
    "_kg_hide-output": true,
    "execution": {
     "iopub.execute_input": "2022-06-17T09:19:34.630070Z",
     "iopub.status.busy": "2022-06-17T09:19:34.629445Z",
     "iopub.status.idle": "2022-06-17T09:19:49.045697Z",
     "shell.execute_reply": "2022-06-17T09:19:49.044895Z"
    },
    "papermill": {
     "duration": 14.483769,
     "end_time": "2022-06-17T09:19:49.047840",
     "exception": false,
     "start_time": "2022-06-17T09:19:34.564071",
     "status": "completed"
    },
    "tags": []
   },
   "outputs": [
    {
     "name": "stdout",
     "output_type": "stream",
     "text": [
      "Collecting git+https://github.com/qubvel/segmentation_models\n",
      "  Cloning https://github.com/qubvel/segmentation_models to /private/var/folders/1_/5tg37fkx1n95d8xz5vrnx2n40000gn/T/pip-req-build-2y3z0aq8\n",
      "  Running command git clone --filter=blob:none --quiet https://github.com/qubvel/segmentation_models /private/var/folders/1_/5tg37fkx1n95d8xz5vrnx2n40000gn/T/pip-req-build-2y3z0aq8\n",
      "  Resolved https://github.com/qubvel/segmentation_models to commit e951c6747f75fa9e7240816d1c79dd2e66813123\n",
      "  Running command git submodule update --init --recursive -q\n",
      "  Preparing metadata (setup.py) ... \u001b[?25ldone\n",
      "\u001b[?25hRequirement already satisfied: keras_applications<=1.0.8,>=1.0.7 in /Users/yunjaewon/tensorflow/env/lib/python3.8/site-packages (from segmentation-models==1.0.1) (1.0.8)\n",
      "Requirement already satisfied: image-classifiers==1.0.0 in /Users/yunjaewon/tensorflow/env/lib/python3.8/site-packages (from segmentation-models==1.0.1) (1.0.0)\n",
      "Requirement already satisfied: efficientnet==1.0.0 in /Users/yunjaewon/tensorflow/env/lib/python3.8/site-packages (from segmentation-models==1.0.1) (1.0.0)\n",
      "Requirement already satisfied: scikit-image in /Users/yunjaewon/tensorflow/env/lib/python3.8/site-packages (from efficientnet==1.0.0->segmentation-models==1.0.1) (0.19.3)\n",
      "Requirement already satisfied: numpy>=1.9.1 in /Users/yunjaewon/tensorflow/env/lib/python3.8/site-packages (from keras_applications<=1.0.8,>=1.0.7->segmentation-models==1.0.1) (1.22.4)\n",
      "Requirement already satisfied: h5py in /Users/yunjaewon/tensorflow/env/lib/python3.8/site-packages (from keras_applications<=1.0.8,>=1.0.7->segmentation-models==1.0.1) (3.6.0)\n",
      "Requirement already satisfied: networkx>=2.2 in /Users/yunjaewon/tensorflow/env/lib/python3.8/site-packages (from scikit-image->efficientnet==1.0.0->segmentation-models==1.0.1) (2.8.4)\n",
      "Requirement already satisfied: tifffile>=2019.7.26 in /Users/yunjaewon/tensorflow/env/lib/python3.8/site-packages (from scikit-image->efficientnet==1.0.0->segmentation-models==1.0.1) (2022.5.4)\n",
      "Requirement already satisfied: PyWavelets>=1.1.1 in /Users/yunjaewon/tensorflow/env/lib/python3.8/site-packages (from scikit-image->efficientnet==1.0.0->segmentation-models==1.0.1) (1.3.0)\n",
      "Requirement already satisfied: scipy>=1.4.1 in /Users/yunjaewon/tensorflow/env/lib/python3.8/site-packages (from scikit-image->efficientnet==1.0.0->segmentation-models==1.0.1) (1.8.1)\n",
      "Requirement already satisfied: imageio>=2.4.1 in /Users/yunjaewon/tensorflow/env/lib/python3.8/site-packages (from scikit-image->efficientnet==1.0.0->segmentation-models==1.0.1) (2.19.3)\n",
      "Requirement already satisfied: pillow!=7.1.0,!=7.1.1,!=8.3.0,>=6.1.0 in /Users/yunjaewon/tensorflow/env/lib/python3.8/site-packages (from scikit-image->efficientnet==1.0.0->segmentation-models==1.0.1) (9.2.0)\n",
      "Requirement already satisfied: packaging>=20.0 in /Users/yunjaewon/tensorflow/env/lib/python3.8/site-packages (from scikit-image->efficientnet==1.0.0->segmentation-models==1.0.1) (21.3)\n",
      "Requirement already satisfied: pyparsing!=3.0.5,>=2.0.2 in /Users/yunjaewon/tensorflow/env/lib/python3.8/site-packages (from packaging>=20.0->scikit-image->efficientnet==1.0.0->segmentation-models==1.0.1) (3.0.9)\n"
     ]
    }
   ],
   "source": [
    "! pip install git+https://github.com/qubvel/segmentation_models"
   ]
  },
  {
   "cell_type": "code",
   "execution_count": 25,
   "id": "029ffd49",
   "metadata": {
    "execution": {
     "iopub.execute_input": "2022-06-17T09:19:49.181866Z",
     "iopub.status.busy": "2022-06-17T09:19:49.181640Z",
     "iopub.status.idle": "2022-06-17T09:19:49.439139Z",
     "shell.execute_reply": "2022-06-17T09:19:49.438195Z"
    },
    "papermill": {
     "duration": 0.327076,
     "end_time": "2022-06-17T09:19:49.441797",
     "exception": false,
     "start_time": "2022-06-17T09:19:49.114721",
     "status": "completed"
    },
    "tags": []
   },
   "outputs": [
    {
     "name": "stdout",
     "output_type": "stream",
     "text": [
      "Segmentation Models: using `keras` framework.\n"
     ]
    },
    {
     "data": {
      "text/plain": [
       "'tf.keras'"
      ]
     },
     "execution_count": 25,
     "metadata": {},
     "output_type": "execute_result"
    }
   ],
   "source": [
    "import segmentation_models as sm\n",
    "sm.set_framework('tf.keras')\n",
    "sm.framework()"
   ]
  },
  {
   "cell_type": "markdown",
   "id": "6c76286a",
   "metadata": {
    "papermill": {
     "duration": 0.06911,
     "end_time": "2022-06-17T09:19:49.577549",
     "exception": false,
     "start_time": "2022-06-17T09:19:49.508439",
     "status": "completed"
    },
    "tags": []
   },
   "source": [
    "**Define model**"
   ]
  },
  {
   "cell_type": "code",
   "execution_count": 26,
   "id": "80e23740",
   "metadata": {
    "_kg_hide-output": true,
    "execution": {
     "iopub.execute_input": "2022-06-17T09:19:49.725917Z",
     "iopub.status.busy": "2022-06-17T09:19:49.725611Z",
     "iopub.status.idle": "2022-06-17T09:19:56.283069Z",
     "shell.execute_reply": "2022-06-17T09:19:56.282327Z"
    },
    "papermill": {
     "duration": 6.633591,
     "end_time": "2022-06-17T09:19:56.285172",
     "exception": false,
     "start_time": "2022-06-17T09:19:49.651581",
     "status": "completed"
    },
    "tags": []
   },
   "outputs": [
    {
     "name": "stdout",
     "output_type": "stream",
     "text": [
      "Metal device set to: Apple M1 Pro\n"
     ]
    },
    {
     "name": "stderr",
     "output_type": "stream",
     "text": [
      "2022-08-01 14:03:01.039004: I tensorflow/core/common_runtime/pluggable_device/pluggable_device_factory.cc:305] Could not identify NUMA node of platform GPU ID 0, defaulting to 0. Your kernel may not have been built with NUMA support.\n",
      "2022-08-01 14:03:01.039134: I tensorflow/core/common_runtime/pluggable_device/pluggable_device_factory.cc:271] Created TensorFlow device (/job:localhost/replica:0/task:0/device:GPU:0 with 0 MB memory) -> physical PluggableDevice (device: 0, name: METAL, pci bus id: <undefined>)\n"
     ]
    }
   ],
   "source": [
    "from segmentation_models import Unet\n",
    "from segmentation_models.utils import set_trainable\n",
    "\n",
    "model = Unet('resnet34',input_shape=(im_height, im_width, 3), classes=3, activation='sigmoid', encoder_weights='imagenet')\n",
    "model.compile(optimizer='adam', loss=bce_dice_loss, metrics=[dice_coef,iou_coef])"
   ]
  },
  {
   "cell_type": "code",
   "execution_count": 27,
   "id": "f7d9a516",
   "metadata": {
    "_kg_hide-output": true,
    "execution": {
     "iopub.execute_input": "2022-06-17T09:19:56.441638Z",
     "iopub.status.busy": "2022-06-17T09:19:56.441414Z",
     "iopub.status.idle": "2022-06-17T09:19:56.525400Z",
     "shell.execute_reply": "2022-06-17T09:19:56.524772Z"
    },
    "papermill": {
     "duration": 0.165559,
     "end_time": "2022-06-17T09:19:56.528764",
     "exception": false,
     "start_time": "2022-06-17T09:19:56.363205",
     "status": "completed"
    },
    "tags": []
   },
   "outputs": [
    {
     "name": "stdout",
     "output_type": "stream",
     "text": [
      "Model: \"model_1\"\n",
      "__________________________________________________________________________________________________\n",
      " Layer (type)                   Output Shape         Param #     Connected to                     \n",
      "==================================================================================================\n",
      " data (InputLayer)              [(None, 320, 320, 3  0           []                               \n",
      "                                )]                                                                \n",
      "                                                                                                  \n",
      " bn_data (BatchNormalization)   (None, 320, 320, 3)  9           ['data[0][0]']                   \n",
      "                                                                                                  \n",
      " zero_padding2d (ZeroPadding2D)  (None, 326, 326, 3)  0          ['bn_data[0][0]']                \n",
      "                                                                                                  \n",
      " conv0 (Conv2D)                 (None, 160, 160, 64  9408        ['zero_padding2d[0][0]']         \n",
      "                                )                                                                 \n",
      "                                                                                                  \n",
      " bn0 (BatchNormalization)       (None, 160, 160, 64  256         ['conv0[0][0]']                  \n",
      "                                )                                                                 \n",
      "                                                                                                  \n",
      " relu0 (Activation)             (None, 160, 160, 64  0           ['bn0[0][0]']                    \n",
      "                                )                                                                 \n",
      "                                                                                                  \n",
      " zero_padding2d_1 (ZeroPadding2  (None, 162, 162, 64  0          ['relu0[0][0]']                  \n",
      " D)                             )                                                                 \n",
      "                                                                                                  \n",
      " pooling0 (MaxPooling2D)        (None, 80, 80, 64)   0           ['zero_padding2d_1[0][0]']       \n",
      "                                                                                                  \n",
      " stage1_unit1_bn1 (BatchNormali  (None, 80, 80, 64)  256         ['pooling0[0][0]']               \n",
      " zation)                                                                                          \n",
      "                                                                                                  \n",
      " stage1_unit1_relu1 (Activation  (None, 80, 80, 64)  0           ['stage1_unit1_bn1[0][0]']       \n",
      " )                                                                                                \n",
      "                                                                                                  \n",
      " zero_padding2d_2 (ZeroPadding2  (None, 82, 82, 64)  0           ['stage1_unit1_relu1[0][0]']     \n",
      " D)                                                                                               \n",
      "                                                                                                  \n",
      " stage1_unit1_conv1 (Conv2D)    (None, 80, 80, 64)   36864       ['zero_padding2d_2[0][0]']       \n",
      "                                                                                                  \n",
      " stage1_unit1_bn2 (BatchNormali  (None, 80, 80, 64)  256         ['stage1_unit1_conv1[0][0]']     \n",
      " zation)                                                                                          \n",
      "                                                                                                  \n",
      " stage1_unit1_relu2 (Activation  (None, 80, 80, 64)  0           ['stage1_unit1_bn2[0][0]']       \n",
      " )                                                                                                \n",
      "                                                                                                  \n",
      " zero_padding2d_3 (ZeroPadding2  (None, 82, 82, 64)  0           ['stage1_unit1_relu2[0][0]']     \n",
      " D)                                                                                               \n",
      "                                                                                                  \n",
      " stage1_unit1_conv2 (Conv2D)    (None, 80, 80, 64)   36864       ['zero_padding2d_3[0][0]']       \n",
      "                                                                                                  \n",
      " stage1_unit1_sc (Conv2D)       (None, 80, 80, 64)   4096        ['stage1_unit1_relu1[0][0]']     \n",
      "                                                                                                  \n",
      " add (Add)                      (None, 80, 80, 64)   0           ['stage1_unit1_conv2[0][0]',     \n",
      "                                                                  'stage1_unit1_sc[0][0]']        \n",
      "                                                                                                  \n",
      " stage1_unit2_bn1 (BatchNormali  (None, 80, 80, 64)  256         ['add[0][0]']                    \n",
      " zation)                                                                                          \n",
      "                                                                                                  \n",
      " stage1_unit2_relu1 (Activation  (None, 80, 80, 64)  0           ['stage1_unit2_bn1[0][0]']       \n",
      " )                                                                                                \n",
      "                                                                                                  \n",
      " zero_padding2d_4 (ZeroPadding2  (None, 82, 82, 64)  0           ['stage1_unit2_relu1[0][0]']     \n",
      " D)                                                                                               \n",
      "                                                                                                  \n",
      " stage1_unit2_conv1 (Conv2D)    (None, 80, 80, 64)   36864       ['zero_padding2d_4[0][0]']       \n",
      "                                                                                                  \n",
      " stage1_unit2_bn2 (BatchNormali  (None, 80, 80, 64)  256         ['stage1_unit2_conv1[0][0]']     \n",
      " zation)                                                                                          \n",
      "                                                                                                  \n",
      " stage1_unit2_relu2 (Activation  (None, 80, 80, 64)  0           ['stage1_unit2_bn2[0][0]']       \n",
      " )                                                                                                \n",
      "                                                                                                  \n",
      " zero_padding2d_5 (ZeroPadding2  (None, 82, 82, 64)  0           ['stage1_unit2_relu2[0][0]']     \n",
      " D)                                                                                               \n",
      "                                                                                                  \n",
      " stage1_unit2_conv2 (Conv2D)    (None, 80, 80, 64)   36864       ['zero_padding2d_5[0][0]']       \n",
      "                                                                                                  \n",
      " add_1 (Add)                    (None, 80, 80, 64)   0           ['stage1_unit2_conv2[0][0]',     \n",
      "                                                                  'add[0][0]']                    \n",
      "                                                                                                  \n",
      " stage1_unit3_bn1 (BatchNormali  (None, 80, 80, 64)  256         ['add_1[0][0]']                  \n",
      " zation)                                                                                          \n",
      "                                                                                                  \n",
      " stage1_unit3_relu1 (Activation  (None, 80, 80, 64)  0           ['stage1_unit3_bn1[0][0]']       \n",
      " )                                                                                                \n",
      "                                                                                                  \n",
      " zero_padding2d_6 (ZeroPadding2  (None, 82, 82, 64)  0           ['stage1_unit3_relu1[0][0]']     \n"
     ]
    },
    {
     "name": "stdout",
     "output_type": "stream",
     "text": [
      " D)                                                                                               \n",
      "                                                                                                  \n",
      " stage1_unit3_conv1 (Conv2D)    (None, 80, 80, 64)   36864       ['zero_padding2d_6[0][0]']       \n",
      "                                                                                                  \n",
      " stage1_unit3_bn2 (BatchNormali  (None, 80, 80, 64)  256         ['stage1_unit3_conv1[0][0]']     \n",
      " zation)                                                                                          \n",
      "                                                                                                  \n",
      " stage1_unit3_relu2 (Activation  (None, 80, 80, 64)  0           ['stage1_unit3_bn2[0][0]']       \n",
      " )                                                                                                \n",
      "                                                                                                  \n",
      " zero_padding2d_7 (ZeroPadding2  (None, 82, 82, 64)  0           ['stage1_unit3_relu2[0][0]']     \n",
      " D)                                                                                               \n",
      "                                                                                                  \n",
      " stage1_unit3_conv2 (Conv2D)    (None, 80, 80, 64)   36864       ['zero_padding2d_7[0][0]']       \n",
      "                                                                                                  \n",
      " add_2 (Add)                    (None, 80, 80, 64)   0           ['stage1_unit3_conv2[0][0]',     \n",
      "                                                                  'add_1[0][0]']                  \n",
      "                                                                                                  \n",
      " stage2_unit1_bn1 (BatchNormali  (None, 80, 80, 64)  256         ['add_2[0][0]']                  \n",
      " zation)                                                                                          \n",
      "                                                                                                  \n",
      " stage2_unit1_relu1 (Activation  (None, 80, 80, 64)  0           ['stage2_unit1_bn1[0][0]']       \n",
      " )                                                                                                \n",
      "                                                                                                  \n",
      " zero_padding2d_8 (ZeroPadding2  (None, 82, 82, 64)  0           ['stage2_unit1_relu1[0][0]']     \n",
      " D)                                                                                               \n",
      "                                                                                                  \n",
      " stage2_unit1_conv1 (Conv2D)    (None, 40, 40, 128)  73728       ['zero_padding2d_8[0][0]']       \n",
      "                                                                                                  \n",
      " stage2_unit1_bn2 (BatchNormali  (None, 40, 40, 128)  512        ['stage2_unit1_conv1[0][0]']     \n",
      " zation)                                                                                          \n",
      "                                                                                                  \n",
      " stage2_unit1_relu2 (Activation  (None, 40, 40, 128)  0          ['stage2_unit1_bn2[0][0]']       \n",
      " )                                                                                                \n",
      "                                                                                                  \n",
      " zero_padding2d_9 (ZeroPadding2  (None, 42, 42, 128)  0          ['stage2_unit1_relu2[0][0]']     \n",
      " D)                                                                                               \n",
      "                                                                                                  \n",
      " stage2_unit1_conv2 (Conv2D)    (None, 40, 40, 128)  147456      ['zero_padding2d_9[0][0]']       \n",
      "                                                                                                  \n",
      " stage2_unit1_sc (Conv2D)       (None, 40, 40, 128)  8192        ['stage2_unit1_relu1[0][0]']     \n",
      "                                                                                                  \n",
      " add_3 (Add)                    (None, 40, 40, 128)  0           ['stage2_unit1_conv2[0][0]',     \n",
      "                                                                  'stage2_unit1_sc[0][0]']        \n",
      "                                                                                                  \n",
      " stage2_unit2_bn1 (BatchNormali  (None, 40, 40, 128)  512        ['add_3[0][0]']                  \n",
      " zation)                                                                                          \n",
      "                                                                                                  \n",
      " stage2_unit2_relu1 (Activation  (None, 40, 40, 128)  0          ['stage2_unit2_bn1[0][0]']       \n",
      " )                                                                                                \n",
      "                                                                                                  \n",
      " zero_padding2d_10 (ZeroPadding  (None, 42, 42, 128)  0          ['stage2_unit2_relu1[0][0]']     \n",
      " 2D)                                                                                              \n",
      "                                                                                                  \n",
      " stage2_unit2_conv1 (Conv2D)    (None, 40, 40, 128)  147456      ['zero_padding2d_10[0][0]']      \n",
      "                                                                                                  \n",
      " stage2_unit2_bn2 (BatchNormali  (None, 40, 40, 128)  512        ['stage2_unit2_conv1[0][0]']     \n",
      " zation)                                                                                          \n",
      "                                                                                                  \n",
      " stage2_unit2_relu2 (Activation  (None, 40, 40, 128)  0          ['stage2_unit2_bn2[0][0]']       \n",
      " )                                                                                                \n",
      "                                                                                                  \n",
      " zero_padding2d_11 (ZeroPadding  (None, 42, 42, 128)  0          ['stage2_unit2_relu2[0][0]']     \n",
      " 2D)                                                                                              \n",
      "                                                                                                  \n",
      " stage2_unit2_conv2 (Conv2D)    (None, 40, 40, 128)  147456      ['zero_padding2d_11[0][0]']      \n",
      "                                                                                                  \n",
      " add_4 (Add)                    (None, 40, 40, 128)  0           ['stage2_unit2_conv2[0][0]',     \n",
      "                                                                  'add_3[0][0]']                  \n",
      "                                                                                                  \n",
      " stage2_unit3_bn1 (BatchNormali  (None, 40, 40, 128)  512        ['add_4[0][0]']                  \n",
      " zation)                                                                                          \n",
      "                                                                                                  \n",
      " stage2_unit3_relu1 (Activation  (None, 40, 40, 128)  0          ['stage2_unit3_bn1[0][0]']       \n",
      " )                                                                                                \n",
      "                                                                                                  \n",
      " zero_padding2d_12 (ZeroPadding  (None, 42, 42, 128)  0          ['stage2_unit3_relu1[0][0]']     \n",
      " 2D)                                                                                              \n",
      "                                                                                                  \n",
      " stage2_unit3_conv1 (Conv2D)    (None, 40, 40, 128)  147456      ['zero_padding2d_12[0][0]']      \n",
      "                                                                                                  \n",
      " stage2_unit3_bn2 (BatchNormali  (None, 40, 40, 128)  512        ['stage2_unit3_conv1[0][0]']     \n",
      " zation)                                                                                          \n"
     ]
    },
    {
     "name": "stdout",
     "output_type": "stream",
     "text": [
      "                                                                                                  \n",
      " stage2_unit3_relu2 (Activation  (None, 40, 40, 128)  0          ['stage2_unit3_bn2[0][0]']       \n",
      " )                                                                                                \n",
      "                                                                                                  \n",
      " zero_padding2d_13 (ZeroPadding  (None, 42, 42, 128)  0          ['stage2_unit3_relu2[0][0]']     \n",
      " 2D)                                                                                              \n",
      "                                                                                                  \n",
      " stage2_unit3_conv2 (Conv2D)    (None, 40, 40, 128)  147456      ['zero_padding2d_13[0][0]']      \n",
      "                                                                                                  \n",
      " add_5 (Add)                    (None, 40, 40, 128)  0           ['stage2_unit3_conv2[0][0]',     \n",
      "                                                                  'add_4[0][0]']                  \n",
      "                                                                                                  \n",
      " stage2_unit4_bn1 (BatchNormali  (None, 40, 40, 128)  512        ['add_5[0][0]']                  \n",
      " zation)                                                                                          \n",
      "                                                                                                  \n",
      " stage2_unit4_relu1 (Activation  (None, 40, 40, 128)  0          ['stage2_unit4_bn1[0][0]']       \n",
      " )                                                                                                \n",
      "                                                                                                  \n",
      " zero_padding2d_14 (ZeroPadding  (None, 42, 42, 128)  0          ['stage2_unit4_relu1[0][0]']     \n",
      " 2D)                                                                                              \n",
      "                                                                                                  \n",
      " stage2_unit4_conv1 (Conv2D)    (None, 40, 40, 128)  147456      ['zero_padding2d_14[0][0]']      \n",
      "                                                                                                  \n",
      " stage2_unit4_bn2 (BatchNormali  (None, 40, 40, 128)  512        ['stage2_unit4_conv1[0][0]']     \n",
      " zation)                                                                                          \n",
      "                                                                                                  \n",
      " stage2_unit4_relu2 (Activation  (None, 40, 40, 128)  0          ['stage2_unit4_bn2[0][0]']       \n",
      " )                                                                                                \n",
      "                                                                                                  \n",
      " zero_padding2d_15 (ZeroPadding  (None, 42, 42, 128)  0          ['stage2_unit4_relu2[0][0]']     \n",
      " 2D)                                                                                              \n",
      "                                                                                                  \n",
      " stage2_unit4_conv2 (Conv2D)    (None, 40, 40, 128)  147456      ['zero_padding2d_15[0][0]']      \n",
      "                                                                                                  \n",
      " add_6 (Add)                    (None, 40, 40, 128)  0           ['stage2_unit4_conv2[0][0]',     \n",
      "                                                                  'add_5[0][0]']                  \n",
      "                                                                                                  \n",
      " stage3_unit1_bn1 (BatchNormali  (None, 40, 40, 128)  512        ['add_6[0][0]']                  \n",
      " zation)                                                                                          \n",
      "                                                                                                  \n",
      " stage3_unit1_relu1 (Activation  (None, 40, 40, 128)  0          ['stage3_unit1_bn1[0][0]']       \n",
      " )                                                                                                \n",
      "                                                                                                  \n",
      " zero_padding2d_16 (ZeroPadding  (None, 42, 42, 128)  0          ['stage3_unit1_relu1[0][0]']     \n",
      " 2D)                                                                                              \n",
      "                                                                                                  \n",
      " stage3_unit1_conv1 (Conv2D)    (None, 20, 20, 256)  294912      ['zero_padding2d_16[0][0]']      \n",
      "                                                                                                  \n",
      " stage3_unit1_bn2 (BatchNormali  (None, 20, 20, 256)  1024       ['stage3_unit1_conv1[0][0]']     \n",
      " zation)                                                                                          \n",
      "                                                                                                  \n",
      " stage3_unit1_relu2 (Activation  (None, 20, 20, 256)  0          ['stage3_unit1_bn2[0][0]']       \n",
      " )                                                                                                \n",
      "                                                                                                  \n",
      " zero_padding2d_17 (ZeroPadding  (None, 22, 22, 256)  0          ['stage3_unit1_relu2[0][0]']     \n",
      " 2D)                                                                                              \n",
      "                                                                                                  \n",
      " stage3_unit1_conv2 (Conv2D)    (None, 20, 20, 256)  589824      ['zero_padding2d_17[0][0]']      \n",
      "                                                                                                  \n",
      " stage3_unit1_sc (Conv2D)       (None, 20, 20, 256)  32768       ['stage3_unit1_relu1[0][0]']     \n",
      "                                                                                                  \n",
      " add_7 (Add)                    (None, 20, 20, 256)  0           ['stage3_unit1_conv2[0][0]',     \n",
      "                                                                  'stage3_unit1_sc[0][0]']        \n",
      "                                                                                                  \n",
      " stage3_unit2_bn1 (BatchNormali  (None, 20, 20, 256)  1024       ['add_7[0][0]']                  \n",
      " zation)                                                                                          \n",
      "                                                                                                  \n",
      " stage3_unit2_relu1 (Activation  (None, 20, 20, 256)  0          ['stage3_unit2_bn1[0][0]']       \n",
      " )                                                                                                \n",
      "                                                                                                  \n",
      " zero_padding2d_18 (ZeroPadding  (None, 22, 22, 256)  0          ['stage3_unit2_relu1[0][0]']     \n",
      " 2D)                                                                                              \n",
      "                                                                                                  \n",
      " stage3_unit2_conv1 (Conv2D)    (None, 20, 20, 256)  589824      ['zero_padding2d_18[0][0]']      \n",
      "                                                                                                  \n",
      " stage3_unit2_bn2 (BatchNormali  (None, 20, 20, 256)  1024       ['stage3_unit2_conv1[0][0]']     \n",
      " zation)                                                                                          \n",
      "                                                                                                  \n",
      " stage3_unit2_relu2 (Activation  (None, 20, 20, 256)  0          ['stage3_unit2_bn2[0][0]']       \n",
      " )                                                                                                \n",
      "                                                                                                  \n",
      " zero_padding2d_19 (ZeroPadding  (None, 22, 22, 256)  0          ['stage3_unit2_relu2[0][0]']     \n",
      " 2D)                                                                                              \n"
     ]
    },
    {
     "name": "stdout",
     "output_type": "stream",
     "text": [
      "                                                                                                  \n",
      " stage3_unit2_conv2 (Conv2D)    (None, 20, 20, 256)  589824      ['zero_padding2d_19[0][0]']      \n",
      "                                                                                                  \n",
      " add_8 (Add)                    (None, 20, 20, 256)  0           ['stage3_unit2_conv2[0][0]',     \n",
      "                                                                  'add_7[0][0]']                  \n",
      "                                                                                                  \n",
      " stage3_unit3_bn1 (BatchNormali  (None, 20, 20, 256)  1024       ['add_8[0][0]']                  \n",
      " zation)                                                                                          \n",
      "                                                                                                  \n",
      " stage3_unit3_relu1 (Activation  (None, 20, 20, 256)  0          ['stage3_unit3_bn1[0][0]']       \n",
      " )                                                                                                \n",
      "                                                                                                  \n",
      " zero_padding2d_20 (ZeroPadding  (None, 22, 22, 256)  0          ['stage3_unit3_relu1[0][0]']     \n",
      " 2D)                                                                                              \n",
      "                                                                                                  \n",
      " stage3_unit3_conv1 (Conv2D)    (None, 20, 20, 256)  589824      ['zero_padding2d_20[0][0]']      \n",
      "                                                                                                  \n",
      " stage3_unit3_bn2 (BatchNormali  (None, 20, 20, 256)  1024       ['stage3_unit3_conv1[0][0]']     \n",
      " zation)                                                                                          \n",
      "                                                                                                  \n",
      " stage3_unit3_relu2 (Activation  (None, 20, 20, 256)  0          ['stage3_unit3_bn2[0][0]']       \n",
      " )                                                                                                \n",
      "                                                                                                  \n",
      " zero_padding2d_21 (ZeroPadding  (None, 22, 22, 256)  0          ['stage3_unit3_relu2[0][0]']     \n",
      " 2D)                                                                                              \n",
      "                                                                                                  \n",
      " stage3_unit3_conv2 (Conv2D)    (None, 20, 20, 256)  589824      ['zero_padding2d_21[0][0]']      \n",
      "                                                                                                  \n",
      " add_9 (Add)                    (None, 20, 20, 256)  0           ['stage3_unit3_conv2[0][0]',     \n",
      "                                                                  'add_8[0][0]']                  \n",
      "                                                                                                  \n",
      " stage3_unit4_bn1 (BatchNormali  (None, 20, 20, 256)  1024       ['add_9[0][0]']                  \n",
      " zation)                                                                                          \n",
      "                                                                                                  \n",
      " stage3_unit4_relu1 (Activation  (None, 20, 20, 256)  0          ['stage3_unit4_bn1[0][0]']       \n",
      " )                                                                                                \n",
      "                                                                                                  \n",
      " zero_padding2d_22 (ZeroPadding  (None, 22, 22, 256)  0          ['stage3_unit4_relu1[0][0]']     \n",
      " 2D)                                                                                              \n",
      "                                                                                                  \n",
      " stage3_unit4_conv1 (Conv2D)    (None, 20, 20, 256)  589824      ['zero_padding2d_22[0][0]']      \n",
      "                                                                                                  \n",
      " stage3_unit4_bn2 (BatchNormali  (None, 20, 20, 256)  1024       ['stage3_unit4_conv1[0][0]']     \n",
      " zation)                                                                                          \n",
      "                                                                                                  \n",
      " stage3_unit4_relu2 (Activation  (None, 20, 20, 256)  0          ['stage3_unit4_bn2[0][0]']       \n",
      " )                                                                                                \n",
      "                                                                                                  \n",
      " zero_padding2d_23 (ZeroPadding  (None, 22, 22, 256)  0          ['stage3_unit4_relu2[0][0]']     \n",
      " 2D)                                                                                              \n",
      "                                                                                                  \n",
      " stage3_unit4_conv2 (Conv2D)    (None, 20, 20, 256)  589824      ['zero_padding2d_23[0][0]']      \n",
      "                                                                                                  \n",
      " add_10 (Add)                   (None, 20, 20, 256)  0           ['stage3_unit4_conv2[0][0]',     \n",
      "                                                                  'add_9[0][0]']                  \n",
      "                                                                                                  \n",
      " stage3_unit5_bn1 (BatchNormali  (None, 20, 20, 256)  1024       ['add_10[0][0]']                 \n",
      " zation)                                                                                          \n",
      "                                                                                                  \n",
      " stage3_unit5_relu1 (Activation  (None, 20, 20, 256)  0          ['stage3_unit5_bn1[0][0]']       \n",
      " )                                                                                                \n",
      "                                                                                                  \n",
      " zero_padding2d_24 (ZeroPadding  (None, 22, 22, 256)  0          ['stage3_unit5_relu1[0][0]']     \n",
      " 2D)                                                                                              \n",
      "                                                                                                  \n",
      " stage3_unit5_conv1 (Conv2D)    (None, 20, 20, 256)  589824      ['zero_padding2d_24[0][0]']      \n",
      "                                                                                                  \n",
      " stage3_unit5_bn2 (BatchNormali  (None, 20, 20, 256)  1024       ['stage3_unit5_conv1[0][0]']     \n",
      " zation)                                                                                          \n",
      "                                                                                                  \n",
      " stage3_unit5_relu2 (Activation  (None, 20, 20, 256)  0          ['stage3_unit5_bn2[0][0]']       \n",
      " )                                                                                                \n",
      "                                                                                                  \n",
      " zero_padding2d_25 (ZeroPadding  (None, 22, 22, 256)  0          ['stage3_unit5_relu2[0][0]']     \n",
      " 2D)                                                                                              \n",
      "                                                                                                  \n",
      " stage3_unit5_conv2 (Conv2D)    (None, 20, 20, 256)  589824      ['zero_padding2d_25[0][0]']      \n",
      "                                                                                                  \n",
      " add_11 (Add)                   (None, 20, 20, 256)  0           ['stage3_unit5_conv2[0][0]',     \n",
      "                                                                  'add_10[0][0]']                 \n",
      "                                                                                                  \n",
      " stage3_unit6_bn1 (BatchNormali  (None, 20, 20, 256)  1024       ['add_11[0][0]']                 \n",
      " zation)                                                                                          \n"
     ]
    },
    {
     "name": "stdout",
     "output_type": "stream",
     "text": [
      "                                                                                                  \n",
      " stage3_unit6_relu1 (Activation  (None, 20, 20, 256)  0          ['stage3_unit6_bn1[0][0]']       \n",
      " )                                                                                                \n",
      "                                                                                                  \n",
      " zero_padding2d_26 (ZeroPadding  (None, 22, 22, 256)  0          ['stage3_unit6_relu1[0][0]']     \n",
      " 2D)                                                                                              \n",
      "                                                                                                  \n",
      " stage3_unit6_conv1 (Conv2D)    (None, 20, 20, 256)  589824      ['zero_padding2d_26[0][0]']      \n",
      "                                                                                                  \n",
      " stage3_unit6_bn2 (BatchNormali  (None, 20, 20, 256)  1024       ['stage3_unit6_conv1[0][0]']     \n",
      " zation)                                                                                          \n",
      "                                                                                                  \n",
      " stage3_unit6_relu2 (Activation  (None, 20, 20, 256)  0          ['stage3_unit6_bn2[0][0]']       \n",
      " )                                                                                                \n",
      "                                                                                                  \n",
      " zero_padding2d_27 (ZeroPadding  (None, 22, 22, 256)  0          ['stage3_unit6_relu2[0][0]']     \n",
      " 2D)                                                                                              \n",
      "                                                                                                  \n",
      " stage3_unit6_conv2 (Conv2D)    (None, 20, 20, 256)  589824      ['zero_padding2d_27[0][0]']      \n",
      "                                                                                                  \n",
      " add_12 (Add)                   (None, 20, 20, 256)  0           ['stage3_unit6_conv2[0][0]',     \n",
      "                                                                  'add_11[0][0]']                 \n",
      "                                                                                                  \n",
      " stage4_unit1_bn1 (BatchNormali  (None, 20, 20, 256)  1024       ['add_12[0][0]']                 \n",
      " zation)                                                                                          \n",
      "                                                                                                  \n",
      " stage4_unit1_relu1 (Activation  (None, 20, 20, 256)  0          ['stage4_unit1_bn1[0][0]']       \n",
      " )                                                                                                \n",
      "                                                                                                  \n",
      " zero_padding2d_28 (ZeroPadding  (None, 22, 22, 256)  0          ['stage4_unit1_relu1[0][0]']     \n",
      " 2D)                                                                                              \n",
      "                                                                                                  \n",
      " stage4_unit1_conv1 (Conv2D)    (None, 10, 10, 512)  1179648     ['zero_padding2d_28[0][0]']      \n",
      "                                                                                                  \n",
      " stage4_unit1_bn2 (BatchNormali  (None, 10, 10, 512)  2048       ['stage4_unit1_conv1[0][0]']     \n",
      " zation)                                                                                          \n",
      "                                                                                                  \n",
      " stage4_unit1_relu2 (Activation  (None, 10, 10, 512)  0          ['stage4_unit1_bn2[0][0]']       \n",
      " )                                                                                                \n",
      "                                                                                                  \n",
      " zero_padding2d_29 (ZeroPadding  (None, 12, 12, 512)  0          ['stage4_unit1_relu2[0][0]']     \n",
      " 2D)                                                                                              \n",
      "                                                                                                  \n",
      " stage4_unit1_conv2 (Conv2D)    (None, 10, 10, 512)  2359296     ['zero_padding2d_29[0][0]']      \n",
      "                                                                                                  \n",
      " stage4_unit1_sc (Conv2D)       (None, 10, 10, 512)  131072      ['stage4_unit1_relu1[0][0]']     \n",
      "                                                                                                  \n",
      " add_13 (Add)                   (None, 10, 10, 512)  0           ['stage4_unit1_conv2[0][0]',     \n",
      "                                                                  'stage4_unit1_sc[0][0]']        \n",
      "                                                                                                  \n",
      " stage4_unit2_bn1 (BatchNormali  (None, 10, 10, 512)  2048       ['add_13[0][0]']                 \n",
      " zation)                                                                                          \n",
      "                                                                                                  \n",
      " stage4_unit2_relu1 (Activation  (None, 10, 10, 512)  0          ['stage4_unit2_bn1[0][0]']       \n",
      " )                                                                                                \n",
      "                                                                                                  \n",
      " zero_padding2d_30 (ZeroPadding  (None, 12, 12, 512)  0          ['stage4_unit2_relu1[0][0]']     \n",
      " 2D)                                                                                              \n",
      "                                                                                                  \n",
      " stage4_unit2_conv1 (Conv2D)    (None, 10, 10, 512)  2359296     ['zero_padding2d_30[0][0]']      \n",
      "                                                                                                  \n",
      " stage4_unit2_bn2 (BatchNormali  (None, 10, 10, 512)  2048       ['stage4_unit2_conv1[0][0]']     \n",
      " zation)                                                                                          \n",
      "                                                                                                  \n",
      " stage4_unit2_relu2 (Activation  (None, 10, 10, 512)  0          ['stage4_unit2_bn2[0][0]']       \n",
      " )                                                                                                \n",
      "                                                                                                  \n",
      " zero_padding2d_31 (ZeroPadding  (None, 12, 12, 512)  0          ['stage4_unit2_relu2[0][0]']     \n",
      " 2D)                                                                                              \n",
      "                                                                                                  \n",
      " stage4_unit2_conv2 (Conv2D)    (None, 10, 10, 512)  2359296     ['zero_padding2d_31[0][0]']      \n",
      "                                                                                                  \n",
      " add_14 (Add)                   (None, 10, 10, 512)  0           ['stage4_unit2_conv2[0][0]',     \n",
      "                                                                  'add_13[0][0]']                 \n",
      "                                                                                                  \n",
      " stage4_unit3_bn1 (BatchNormali  (None, 10, 10, 512)  2048       ['add_14[0][0]']                 \n",
      " zation)                                                                                          \n",
      "                                                                                                  \n",
      " stage4_unit3_relu1 (Activation  (None, 10, 10, 512)  0          ['stage4_unit3_bn1[0][0]']       \n",
      " )                                                                                                \n",
      "                                                                                                  \n",
      " zero_padding2d_32 (ZeroPadding  (None, 12, 12, 512)  0          ['stage4_unit3_relu1[0][0]']     \n",
      " 2D)                                                                                              \n"
     ]
    },
    {
     "name": "stdout",
     "output_type": "stream",
     "text": [
      "                                                                                                  \n",
      " stage4_unit3_conv1 (Conv2D)    (None, 10, 10, 512)  2359296     ['zero_padding2d_32[0][0]']      \n",
      "                                                                                                  \n",
      " stage4_unit3_bn2 (BatchNormali  (None, 10, 10, 512)  2048       ['stage4_unit3_conv1[0][0]']     \n",
      " zation)                                                                                          \n",
      "                                                                                                  \n",
      " stage4_unit3_relu2 (Activation  (None, 10, 10, 512)  0          ['stage4_unit3_bn2[0][0]']       \n",
      " )                                                                                                \n",
      "                                                                                                  \n",
      " zero_padding2d_33 (ZeroPadding  (None, 12, 12, 512)  0          ['stage4_unit3_relu2[0][0]']     \n",
      " 2D)                                                                                              \n",
      "                                                                                                  \n",
      " stage4_unit3_conv2 (Conv2D)    (None, 10, 10, 512)  2359296     ['zero_padding2d_33[0][0]']      \n",
      "                                                                                                  \n",
      " add_15 (Add)                   (None, 10, 10, 512)  0           ['stage4_unit3_conv2[0][0]',     \n",
      "                                                                  'add_14[0][0]']                 \n",
      "                                                                                                  \n",
      " bn1 (BatchNormalization)       (None, 10, 10, 512)  2048        ['add_15[0][0]']                 \n",
      "                                                                                                  \n",
      " relu1 (Activation)             (None, 10, 10, 512)  0           ['bn1[0][0]']                    \n",
      "                                                                                                  \n",
      " decoder_stage0_upsampling (UpS  (None, 20, 20, 512)  0          ['relu1[0][0]']                  \n",
      " ampling2D)                                                                                       \n",
      "                                                                                                  \n",
      " decoder_stage0_concat (Concate  (None, 20, 20, 768)  0          ['decoder_stage0_upsampling[0][0]\n",
      " nate)                                                           ',                               \n",
      "                                                                  'stage4_unit1_relu1[0][0]']     \n",
      "                                                                                                  \n",
      " decoder_stage0a_conv (Conv2D)  (None, 20, 20, 256)  1769472     ['decoder_stage0_concat[0][0]']  \n",
      "                                                                                                  \n",
      " decoder_stage0a_bn (BatchNorma  (None, 20, 20, 256)  1024       ['decoder_stage0a_conv[0][0]']   \n",
      " lization)                                                                                        \n",
      "                                                                                                  \n",
      " decoder_stage0a_relu (Activati  (None, 20, 20, 256)  0          ['decoder_stage0a_bn[0][0]']     \n",
      " on)                                                                                              \n",
      "                                                                                                  \n",
      " decoder_stage0b_conv (Conv2D)  (None, 20, 20, 256)  589824      ['decoder_stage0a_relu[0][0]']   \n",
      "                                                                                                  \n",
      " decoder_stage0b_bn (BatchNorma  (None, 20, 20, 256)  1024       ['decoder_stage0b_conv[0][0]']   \n",
      " lization)                                                                                        \n",
      "                                                                                                  \n",
      " decoder_stage0b_relu (Activati  (None, 20, 20, 256)  0          ['decoder_stage0b_bn[0][0]']     \n",
      " on)                                                                                              \n",
      "                                                                                                  \n",
      " decoder_stage1_upsampling (UpS  (None, 40, 40, 256)  0          ['decoder_stage0b_relu[0][0]']   \n",
      " ampling2D)                                                                                       \n",
      "                                                                                                  \n",
      " decoder_stage1_concat (Concate  (None, 40, 40, 384)  0          ['decoder_stage1_upsampling[0][0]\n",
      " nate)                                                           ',                               \n",
      "                                                                  'stage3_unit1_relu1[0][0]']     \n",
      "                                                                                                  \n",
      " decoder_stage1a_conv (Conv2D)  (None, 40, 40, 128)  442368      ['decoder_stage1_concat[0][0]']  \n",
      "                                                                                                  \n",
      " decoder_stage1a_bn (BatchNorma  (None, 40, 40, 128)  512        ['decoder_stage1a_conv[0][0]']   \n",
      " lization)                                                                                        \n",
      "                                                                                                  \n",
      " decoder_stage1a_relu (Activati  (None, 40, 40, 128)  0          ['decoder_stage1a_bn[0][0]']     \n",
      " on)                                                                                              \n",
      "                                                                                                  \n",
      " decoder_stage1b_conv (Conv2D)  (None, 40, 40, 128)  147456      ['decoder_stage1a_relu[0][0]']   \n",
      "                                                                                                  \n",
      " decoder_stage1b_bn (BatchNorma  (None, 40, 40, 128)  512        ['decoder_stage1b_conv[0][0]']   \n",
      " lization)                                                                                        \n",
      "                                                                                                  \n",
      " decoder_stage1b_relu (Activati  (None, 40, 40, 128)  0          ['decoder_stage1b_bn[0][0]']     \n",
      " on)                                                                                              \n",
      "                                                                                                  \n",
      " decoder_stage2_upsampling (UpS  (None, 80, 80, 128)  0          ['decoder_stage1b_relu[0][0]']   \n",
      " ampling2D)                                                                                       \n",
      "                                                                                                  \n",
      " decoder_stage2_concat (Concate  (None, 80, 80, 192)  0          ['decoder_stage2_upsampling[0][0]\n",
      " nate)                                                           ',                               \n",
      "                                                                  'stage2_unit1_relu1[0][0]']     \n",
      "                                                                                                  \n",
      " decoder_stage2a_conv (Conv2D)  (None, 80, 80, 64)   110592      ['decoder_stage2_concat[0][0]']  \n",
      "                                                                                                  \n",
      " decoder_stage2a_bn (BatchNorma  (None, 80, 80, 64)  256         ['decoder_stage2a_conv[0][0]']   \n",
      " lization)                                                                                        \n",
      "                                                                                                  \n",
      " decoder_stage2a_relu (Activati  (None, 80, 80, 64)  0           ['decoder_stage2a_bn[0][0]']     \n",
      " on)                                                                                              \n",
      "                                                                                                  \n",
      " decoder_stage2b_conv (Conv2D)  (None, 80, 80, 64)   36864       ['decoder_stage2a_relu[0][0]']   \n"
     ]
    },
    {
     "name": "stdout",
     "output_type": "stream",
     "text": [
      "                                                                                                  \n",
      " decoder_stage2b_bn (BatchNorma  (None, 80, 80, 64)  256         ['decoder_stage2b_conv[0][0]']   \n",
      " lization)                                                                                        \n",
      "                                                                                                  \n",
      " decoder_stage2b_relu (Activati  (None, 80, 80, 64)  0           ['decoder_stage2b_bn[0][0]']     \n",
      " on)                                                                                              \n",
      "                                                                                                  \n",
      " decoder_stage3_upsampling (UpS  (None, 160, 160, 64  0          ['decoder_stage2b_relu[0][0]']   \n",
      " ampling2D)                     )                                                                 \n",
      "                                                                                                  \n",
      " decoder_stage3_concat (Concate  (None, 160, 160, 12  0          ['decoder_stage3_upsampling[0][0]\n",
      " nate)                          8)                               ',                               \n",
      "                                                                  'relu0[0][0]']                  \n",
      "                                                                                                  \n",
      " decoder_stage3a_conv (Conv2D)  (None, 160, 160, 32  36864       ['decoder_stage3_concat[0][0]']  \n",
      "                                )                                                                 \n",
      "                                                                                                  \n",
      " decoder_stage3a_bn (BatchNorma  (None, 160, 160, 32  128        ['decoder_stage3a_conv[0][0]']   \n",
      " lization)                      )                                                                 \n",
      "                                                                                                  \n",
      " decoder_stage3a_relu (Activati  (None, 160, 160, 32  0          ['decoder_stage3a_bn[0][0]']     \n",
      " on)                            )                                                                 \n",
      "                                                                                                  \n",
      " decoder_stage3b_conv (Conv2D)  (None, 160, 160, 32  9216        ['decoder_stage3a_relu[0][0]']   \n",
      "                                )                                                                 \n",
      "                                                                                                  \n",
      " decoder_stage3b_bn (BatchNorma  (None, 160, 160, 32  128        ['decoder_stage3b_conv[0][0]']   \n",
      " lization)                      )                                                                 \n",
      "                                                                                                  \n",
      " decoder_stage3b_relu (Activati  (None, 160, 160, 32  0          ['decoder_stage3b_bn[0][0]']     \n",
      " on)                            )                                                                 \n",
      "                                                                                                  \n",
      " decoder_stage4_upsampling (UpS  (None, 320, 320, 32  0          ['decoder_stage3b_relu[0][0]']   \n",
      " ampling2D)                     )                                                                 \n",
      "                                                                                                  \n",
      " decoder_stage4a_conv (Conv2D)  (None, 320, 320, 16  4608        ['decoder_stage4_upsampling[0][0]\n",
      "                                )                                ']                               \n",
      "                                                                                                  \n",
      " decoder_stage4a_bn (BatchNorma  (None, 320, 320, 16  64         ['decoder_stage4a_conv[0][0]']   \n",
      " lization)                      )                                                                 \n",
      "                                                                                                  \n",
      " decoder_stage4a_relu (Activati  (None, 320, 320, 16  0          ['decoder_stage4a_bn[0][0]']     \n",
      " on)                            )                                                                 \n",
      "                                                                                                  \n",
      " decoder_stage4b_conv (Conv2D)  (None, 320, 320, 16  2304        ['decoder_stage4a_relu[0][0]']   \n",
      "                                )                                                                 \n",
      "                                                                                                  \n",
      " decoder_stage4b_bn (BatchNorma  (None, 320, 320, 16  64         ['decoder_stage4b_conv[0][0]']   \n",
      " lization)                      )                                                                 \n",
      "                                                                                                  \n",
      " decoder_stage4b_relu (Activati  (None, 320, 320, 16  0          ['decoder_stage4b_bn[0][0]']     \n",
      " on)                            )                                                                 \n",
      "                                                                                                  \n",
      " final_conv (Conv2D)            (None, 320, 320, 3)  435         ['decoder_stage4b_relu[0][0]']   \n",
      "                                                                                                  \n",
      " sigmoid (Activation)           (None, 320, 320, 3)  0           ['final_conv[0][0]']             \n",
      "                                                                                                  \n",
      "==================================================================================================\n",
      "Total params: 24,456,444\n",
      "Trainable params: 24,439,094\n",
      "Non-trainable params: 17,350\n",
      "__________________________________________________________________________________________________\n"
     ]
    }
   ],
   "source": [
    "# Model summary\n",
    "model.summary()"
   ]
  },
  {
   "cell_type": "markdown",
   "id": "60016aea",
   "metadata": {
    "papermill": {
     "duration": 0.080051,
     "end_time": "2022-06-17T09:19:56.688528",
     "exception": false,
     "start_time": "2022-06-17T09:19:56.608477",
     "status": "completed"
    },
    "tags": []
   },
   "source": [
    "# Training model"
   ]
  },
  {
   "cell_type": "markdown",
   "id": "99567c87",
   "metadata": {
    "papermill": {
     "duration": 0.079602,
     "end_time": "2022-06-17T09:19:56.845859",
     "exception": false,
     "start_time": "2022-06-17T09:19:56.766257",
     "status": "completed"
    },
    "tags": []
   },
   "source": [
    "**Callbacks**"
   ]
  },
  {
   "cell_type": "code",
   "execution_count": 28,
   "id": "275aac54",
   "metadata": {
    "execution": {
     "iopub.execute_input": "2022-06-17T09:19:57.006637Z",
     "iopub.status.busy": "2022-06-17T09:19:57.006169Z",
     "iopub.status.idle": "2022-06-17T09:19:57.011909Z",
     "shell.execute_reply": "2022-06-17T09:19:57.011267Z"
    },
    "papermill": {
     "duration": 0.088033,
     "end_time": "2022-06-17T09:19:57.013545",
     "exception": false,
     "start_time": "2022-06-17T09:19:56.925512",
     "status": "completed"
    },
    "tags": []
   },
   "outputs": [],
   "source": [
    "# Save best model at every epoch\n",
    "checkpoint = ModelCheckpoint(\n",
    "    'UNET_model',\n",
    "    monitor='val_loss',\n",
    "    verbose=1,\n",
    "    save_best_only=True,\n",
    "    save_weights_only=False,\n",
    "    mode='auto',\n",
    ")\n",
    "\n",
    "# Stop early if no improvement seen\n",
    "early_stopping = EarlyStopping(\n",
    "    patience=5,\n",
    "    min_delta=0.0001,\n",
    "    restore_best_weights=True,\n",
    ")\n",
    "\n",
    "# Cosine decay\n",
    "'''\n",
    "lr_schedule = keras.optimizers.schedules.CosineDecay(\n",
    "    initial_learning_rate=2e-3,\n",
    "    decay_steps=EPOCHS + 2, \n",
    "    alpha=0,\n",
    ")\n",
    "lr_schedule = keras.callbacks.LearningRateScheduler(lr_schedule, verbose=0)\n",
    "'''\n",
    "\n",
    "# Reduce learning rate on plateau\n",
    "lr_plateau = keras.callbacks.ReduceLROnPlateau(\n",
    "    monitor=\"val_loss\",\n",
    "    factor=0.1,\n",
    "    patience=5,\n",
    "    verbose=0,\n",
    "    min_delta=0.0001,\n",
    ")"
   ]
  },
  {
   "cell_type": "markdown",
   "id": "5d49af6c",
   "metadata": {
    "papermill": {
     "duration": 0.080291,
     "end_time": "2022-06-17T09:19:57.173690",
     "exception": false,
     "start_time": "2022-06-17T09:19:57.093399",
     "status": "completed"
    },
    "tags": []
   },
   "source": [
    "**Train model**"
   ]
  },
  {
   "cell_type": "code",
   "execution_count": 29,
   "id": "92a40f15",
   "metadata": {
    "_kg_hide-output": true,
    "execution": {
     "iopub.execute_input": "2022-06-17T09:19:57.340366Z",
     "iopub.status.busy": "2022-06-17T09:19:57.339716Z",
     "iopub.status.idle": "2022-06-17T15:02:48.362266Z",
     "shell.execute_reply": "2022-06-17T15:02:48.361419Z"
    },
    "papermill": {
     "duration": 20571.112435,
     "end_time": "2022-06-17T15:02:48.364816",
     "exception": false,
     "start_time": "2022-06-17T09:19:57.252381",
     "status": "completed"
    },
    "scrolled": true,
    "tags": []
   },
   "outputs": [
    {
     "name": "stdout",
     "output_type": "stream",
     "text": [
      "Epoch 1/40\n"
     ]
    },
    {
     "name": "stderr",
     "output_type": "stream",
     "text": [
      "2022-08-01 14:03:02.357393: W tensorflow/core/platform/profile_utils/cpu_utils.cc:128] Failed to get CPU frequency: 0 Hz\n",
      "2022-08-01 14:03:04.883619: I tensorflow/core/grappler/optimizers/custom_graph_optimizer_registry.cc:113] Plugin optimizer for device_type GPU is enabled.\n"
     ]
    },
    {
     "name": "stdout",
     "output_type": "stream",
     "text": [
      "  71/1942 [>.............................] - ETA: 26:02 - loss: 1.1514 - dice_coef: 0.0286 - iou_coef: 0.0113"
     ]
    },
    {
     "ename": "KeyboardInterrupt",
     "evalue": "",
     "output_type": "error",
     "traceback": [
      "\u001b[0;31m---------------------------------------------------------------------------\u001b[0m",
      "\u001b[0;31mKeyboardInterrupt\u001b[0m                         Traceback (most recent call last)",
      "Input \u001b[0;32mIn [29]\u001b[0m, in \u001b[0;36m<cell line: 3>\u001b[0;34m()\u001b[0m\n\u001b[1;32m      1\u001b[0m \u001b[38;5;66;03m# Train model\u001b[39;00m\n\u001b[1;32m      2\u001b[0m \u001b[38;5;66;03m#for illustration epoch=3\u001b[39;00m\n\u001b[0;32m----> 3\u001b[0m history \u001b[38;5;241m=\u001b[39m \u001b[43mmodel\u001b[49m\u001b[38;5;241;43m.\u001b[39;49m\u001b[43mfit\u001b[49m\u001b[43m(\u001b[49m\n\u001b[1;32m      4\u001b[0m \u001b[43m    \u001b[49m\u001b[43mtrain_generator\u001b[49m\u001b[43m,\u001b[49m\n\u001b[1;32m      5\u001b[0m \u001b[43m    \u001b[49m\u001b[43mvalidation_data\u001b[49m\u001b[38;5;241;43m=\u001b[39;49m\u001b[43mval_generator\u001b[49m\u001b[43m,\u001b[49m\n\u001b[1;32m      6\u001b[0m \u001b[43m    \u001b[49m\u001b[43mcallbacks\u001b[49m\u001b[38;5;241;43m=\u001b[39;49m\u001b[43m[\u001b[49m\u001b[43mcheckpoint\u001b[49m\u001b[43m,\u001b[49m\u001b[43m \u001b[49m\n\u001b[1;32m      7\u001b[0m \u001b[43m               \u001b[49m\u001b[38;5;66;43;03m#early_stopping, \u001b[39;49;00m\n\u001b[1;32m      8\u001b[0m \u001b[43m               \u001b[49m\u001b[43mlr_plateau\u001b[49m\u001b[43m]\u001b[49m\u001b[43m,\u001b[49m\n\u001b[1;32m      9\u001b[0m \u001b[43m    \u001b[49m\u001b[43muse_multiprocessing\u001b[49m\u001b[38;5;241;43m=\u001b[39;49m\u001b[38;5;28;43;01mFalse\u001b[39;49;00m\u001b[43m,\u001b[49m\n\u001b[1;32m     10\u001b[0m \u001b[43m    \u001b[49m\u001b[43mworkers\u001b[49m\u001b[38;5;241;43m=\u001b[39;49m\u001b[38;5;241;43m8\u001b[39;49m\u001b[43m,\u001b[49m\n\u001b[1;32m     11\u001b[0m \u001b[43m    \u001b[49m\u001b[43mepochs\u001b[49m\u001b[38;5;241;43m=\u001b[39;49m\u001b[38;5;241;43m40\u001b[39;49m\n\u001b[1;32m     12\u001b[0m \u001b[43m)\u001b[49m\n",
      "File \u001b[0;32m~/tensorflow/env/lib/python3.8/site-packages/keras/utils/traceback_utils.py:64\u001b[0m, in \u001b[0;36mfilter_traceback.<locals>.error_handler\u001b[0;34m(*args, **kwargs)\u001b[0m\n\u001b[1;32m     62\u001b[0m filtered_tb \u001b[38;5;241m=\u001b[39m \u001b[38;5;28;01mNone\u001b[39;00m\n\u001b[1;32m     63\u001b[0m \u001b[38;5;28;01mtry\u001b[39;00m:\n\u001b[0;32m---> 64\u001b[0m   \u001b[38;5;28;01mreturn\u001b[39;00m \u001b[43mfn\u001b[49m\u001b[43m(\u001b[49m\u001b[38;5;241;43m*\u001b[39;49m\u001b[43margs\u001b[49m\u001b[43m,\u001b[49m\u001b[43m \u001b[49m\u001b[38;5;241;43m*\u001b[39;49m\u001b[38;5;241;43m*\u001b[39;49m\u001b[43mkwargs\u001b[49m\u001b[43m)\u001b[49m\n\u001b[1;32m     65\u001b[0m \u001b[38;5;28;01mexcept\u001b[39;00m \u001b[38;5;167;01mException\u001b[39;00m \u001b[38;5;28;01mas\u001b[39;00m e:  \u001b[38;5;66;03m# pylint: disable=broad-except\u001b[39;00m\n\u001b[1;32m     66\u001b[0m   filtered_tb \u001b[38;5;241m=\u001b[39m _process_traceback_frames(e\u001b[38;5;241m.\u001b[39m__traceback__)\n",
      "File \u001b[0;32m~/tensorflow/env/lib/python3.8/site-packages/keras/engine/training.py:1414\u001b[0m, in \u001b[0;36mModel.fit\u001b[0;34m(self, x, y, batch_size, epochs, verbose, callbacks, validation_split, validation_data, shuffle, class_weight, sample_weight, initial_epoch, steps_per_epoch, validation_steps, validation_batch_size, validation_freq, max_queue_size, workers, use_multiprocessing)\u001b[0m\n\u001b[1;32m   1412\u001b[0m logs \u001b[38;5;241m=\u001b[39m tmp_logs  \u001b[38;5;66;03m# No error, now safe to assign to logs.\u001b[39;00m\n\u001b[1;32m   1413\u001b[0m end_step \u001b[38;5;241m=\u001b[39m step \u001b[38;5;241m+\u001b[39m data_handler\u001b[38;5;241m.\u001b[39mstep_increment\n\u001b[0;32m-> 1414\u001b[0m \u001b[43mcallbacks\u001b[49m\u001b[38;5;241;43m.\u001b[39;49m\u001b[43mon_train_batch_end\u001b[49m\u001b[43m(\u001b[49m\u001b[43mend_step\u001b[49m\u001b[43m,\u001b[49m\u001b[43m \u001b[49m\u001b[43mlogs\u001b[49m\u001b[43m)\u001b[49m\n\u001b[1;32m   1415\u001b[0m \u001b[38;5;28;01mif\u001b[39;00m \u001b[38;5;28mself\u001b[39m\u001b[38;5;241m.\u001b[39mstop_training:\n\u001b[1;32m   1416\u001b[0m   \u001b[38;5;28;01mbreak\u001b[39;00m\n",
      "File \u001b[0;32m~/tensorflow/env/lib/python3.8/site-packages/keras/callbacks.py:438\u001b[0m, in \u001b[0;36mCallbackList.on_train_batch_end\u001b[0;34m(self, batch, logs)\u001b[0m\n\u001b[1;32m    431\u001b[0m \u001b[38;5;124;03m\"\"\"Calls the `on_train_batch_end` methods of its callbacks.\u001b[39;00m\n\u001b[1;32m    432\u001b[0m \n\u001b[1;32m    433\u001b[0m \u001b[38;5;124;03mArgs:\u001b[39;00m\n\u001b[1;32m    434\u001b[0m \u001b[38;5;124;03m    batch: Integer, index of batch within the current epoch.\u001b[39;00m\n\u001b[1;32m    435\u001b[0m \u001b[38;5;124;03m    logs: Dict. Aggregated metric results up until this batch.\u001b[39;00m\n\u001b[1;32m    436\u001b[0m \u001b[38;5;124;03m\"\"\"\u001b[39;00m\n\u001b[1;32m    437\u001b[0m \u001b[38;5;28;01mif\u001b[39;00m \u001b[38;5;28mself\u001b[39m\u001b[38;5;241m.\u001b[39m_should_call_train_batch_hooks:\n\u001b[0;32m--> 438\u001b[0m   \u001b[38;5;28;43mself\u001b[39;49m\u001b[38;5;241;43m.\u001b[39;49m\u001b[43m_call_batch_hook\u001b[49m\u001b[43m(\u001b[49m\u001b[43mModeKeys\u001b[49m\u001b[38;5;241;43m.\u001b[39;49m\u001b[43mTRAIN\u001b[49m\u001b[43m,\u001b[49m\u001b[43m \u001b[49m\u001b[38;5;124;43m'\u001b[39;49m\u001b[38;5;124;43mend\u001b[39;49m\u001b[38;5;124;43m'\u001b[39;49m\u001b[43m,\u001b[49m\u001b[43m \u001b[49m\u001b[43mbatch\u001b[49m\u001b[43m,\u001b[49m\u001b[43m \u001b[49m\u001b[43mlogs\u001b[49m\u001b[38;5;241;43m=\u001b[39;49m\u001b[43mlogs\u001b[49m\u001b[43m)\u001b[49m\n",
      "File \u001b[0;32m~/tensorflow/env/lib/python3.8/site-packages/keras/callbacks.py:297\u001b[0m, in \u001b[0;36mCallbackList._call_batch_hook\u001b[0;34m(self, mode, hook, batch, logs)\u001b[0m\n\u001b[1;32m    295\u001b[0m   \u001b[38;5;28mself\u001b[39m\u001b[38;5;241m.\u001b[39m_call_batch_begin_hook(mode, batch, logs)\n\u001b[1;32m    296\u001b[0m \u001b[38;5;28;01melif\u001b[39;00m hook \u001b[38;5;241m==\u001b[39m \u001b[38;5;124m'\u001b[39m\u001b[38;5;124mend\u001b[39m\u001b[38;5;124m'\u001b[39m:\n\u001b[0;32m--> 297\u001b[0m   \u001b[38;5;28;43mself\u001b[39;49m\u001b[38;5;241;43m.\u001b[39;49m\u001b[43m_call_batch_end_hook\u001b[49m\u001b[43m(\u001b[49m\u001b[43mmode\u001b[49m\u001b[43m,\u001b[49m\u001b[43m \u001b[49m\u001b[43mbatch\u001b[49m\u001b[43m,\u001b[49m\u001b[43m \u001b[49m\u001b[43mlogs\u001b[49m\u001b[43m)\u001b[49m\n\u001b[1;32m    298\u001b[0m \u001b[38;5;28;01melse\u001b[39;00m:\n\u001b[1;32m    299\u001b[0m   \u001b[38;5;28;01mraise\u001b[39;00m \u001b[38;5;167;01mValueError\u001b[39;00m(\n\u001b[1;32m    300\u001b[0m       \u001b[38;5;124mf\u001b[39m\u001b[38;5;124m'\u001b[39m\u001b[38;5;124mUnrecognized hook: \u001b[39m\u001b[38;5;132;01m{\u001b[39;00mhook\u001b[38;5;132;01m}\u001b[39;00m\u001b[38;5;124m. Expected values are [\u001b[39m\u001b[38;5;124m\"\u001b[39m\u001b[38;5;124mbegin\u001b[39m\u001b[38;5;124m\"\u001b[39m\u001b[38;5;124m, \u001b[39m\u001b[38;5;124m\"\u001b[39m\u001b[38;5;124mend\u001b[39m\u001b[38;5;124m\"\u001b[39m\u001b[38;5;124m]\u001b[39m\u001b[38;5;124m'\u001b[39m)\n",
      "File \u001b[0;32m~/tensorflow/env/lib/python3.8/site-packages/keras/callbacks.py:318\u001b[0m, in \u001b[0;36mCallbackList._call_batch_end_hook\u001b[0;34m(self, mode, batch, logs)\u001b[0m\n\u001b[1;32m    315\u001b[0m   batch_time \u001b[38;5;241m=\u001b[39m time\u001b[38;5;241m.\u001b[39mtime() \u001b[38;5;241m-\u001b[39m \u001b[38;5;28mself\u001b[39m\u001b[38;5;241m.\u001b[39m_batch_start_time\n\u001b[1;32m    316\u001b[0m   \u001b[38;5;28mself\u001b[39m\u001b[38;5;241m.\u001b[39m_batch_times\u001b[38;5;241m.\u001b[39mappend(batch_time)\n\u001b[0;32m--> 318\u001b[0m \u001b[38;5;28;43mself\u001b[39;49m\u001b[38;5;241;43m.\u001b[39;49m\u001b[43m_call_batch_hook_helper\u001b[49m\u001b[43m(\u001b[49m\u001b[43mhook_name\u001b[49m\u001b[43m,\u001b[49m\u001b[43m \u001b[49m\u001b[43mbatch\u001b[49m\u001b[43m,\u001b[49m\u001b[43m \u001b[49m\u001b[43mlogs\u001b[49m\u001b[43m)\u001b[49m\n\u001b[1;32m    320\u001b[0m \u001b[38;5;28;01mif\u001b[39;00m \u001b[38;5;28mlen\u001b[39m(\u001b[38;5;28mself\u001b[39m\u001b[38;5;241m.\u001b[39m_batch_times) \u001b[38;5;241m>\u001b[39m\u001b[38;5;241m=\u001b[39m \u001b[38;5;28mself\u001b[39m\u001b[38;5;241m.\u001b[39m_num_batches_for_timing_check:\n\u001b[1;32m    321\u001b[0m   end_hook_name \u001b[38;5;241m=\u001b[39m hook_name\n",
      "File \u001b[0;32m~/tensorflow/env/lib/python3.8/site-packages/keras/callbacks.py:356\u001b[0m, in \u001b[0;36mCallbackList._call_batch_hook_helper\u001b[0;34m(self, hook_name, batch, logs)\u001b[0m\n\u001b[1;32m    354\u001b[0m \u001b[38;5;28;01mfor\u001b[39;00m callback \u001b[38;5;129;01min\u001b[39;00m \u001b[38;5;28mself\u001b[39m\u001b[38;5;241m.\u001b[39mcallbacks:\n\u001b[1;32m    355\u001b[0m   hook \u001b[38;5;241m=\u001b[39m \u001b[38;5;28mgetattr\u001b[39m(callback, hook_name)\n\u001b[0;32m--> 356\u001b[0m   \u001b[43mhook\u001b[49m\u001b[43m(\u001b[49m\u001b[43mbatch\u001b[49m\u001b[43m,\u001b[49m\u001b[43m \u001b[49m\u001b[43mlogs\u001b[49m\u001b[43m)\u001b[49m\n\u001b[1;32m    358\u001b[0m \u001b[38;5;28;01mif\u001b[39;00m \u001b[38;5;28mself\u001b[39m\u001b[38;5;241m.\u001b[39m_check_timing:\n\u001b[1;32m    359\u001b[0m   \u001b[38;5;28;01mif\u001b[39;00m hook_name \u001b[38;5;129;01mnot\u001b[39;00m \u001b[38;5;129;01min\u001b[39;00m \u001b[38;5;28mself\u001b[39m\u001b[38;5;241m.\u001b[39m_hook_times:\n",
      "File \u001b[0;32m~/tensorflow/env/lib/python3.8/site-packages/keras/callbacks.py:1034\u001b[0m, in \u001b[0;36mProgbarLogger.on_train_batch_end\u001b[0;34m(self, batch, logs)\u001b[0m\n\u001b[1;32m   1033\u001b[0m \u001b[38;5;28;01mdef\u001b[39;00m \u001b[38;5;21mon_train_batch_end\u001b[39m(\u001b[38;5;28mself\u001b[39m, batch, logs\u001b[38;5;241m=\u001b[39m\u001b[38;5;28;01mNone\u001b[39;00m):\n\u001b[0;32m-> 1034\u001b[0m   \u001b[38;5;28;43mself\u001b[39;49m\u001b[38;5;241;43m.\u001b[39;49m\u001b[43m_batch_update_progbar\u001b[49m\u001b[43m(\u001b[49m\u001b[43mbatch\u001b[49m\u001b[43m,\u001b[49m\u001b[43m \u001b[49m\u001b[43mlogs\u001b[49m\u001b[43m)\u001b[49m\n",
      "File \u001b[0;32m~/tensorflow/env/lib/python3.8/site-packages/keras/callbacks.py:1106\u001b[0m, in \u001b[0;36mProgbarLogger._batch_update_progbar\u001b[0;34m(self, batch, logs)\u001b[0m\n\u001b[1;32m   1102\u001b[0m   \u001b[38;5;28mself\u001b[39m\u001b[38;5;241m.\u001b[39mseen \u001b[38;5;241m+\u001b[39m\u001b[38;5;241m=\u001b[39m add_seen\n\u001b[1;32m   1104\u001b[0m \u001b[38;5;28;01mif\u001b[39;00m \u001b[38;5;28mself\u001b[39m\u001b[38;5;241m.\u001b[39mverbose \u001b[38;5;241m==\u001b[39m \u001b[38;5;241m1\u001b[39m:\n\u001b[1;32m   1105\u001b[0m   \u001b[38;5;66;03m# Only block async when verbose = 1.\u001b[39;00m\n\u001b[0;32m-> 1106\u001b[0m   logs \u001b[38;5;241m=\u001b[39m \u001b[43mtf_utils\u001b[49m\u001b[38;5;241;43m.\u001b[39;49m\u001b[43msync_to_numpy_or_python_type\u001b[49m\u001b[43m(\u001b[49m\u001b[43mlogs\u001b[49m\u001b[43m)\u001b[49m\n\u001b[1;32m   1107\u001b[0m   \u001b[38;5;28mself\u001b[39m\u001b[38;5;241m.\u001b[39mprogbar\u001b[38;5;241m.\u001b[39mupdate(\u001b[38;5;28mself\u001b[39m\u001b[38;5;241m.\u001b[39mseen, \u001b[38;5;28mlist\u001b[39m(logs\u001b[38;5;241m.\u001b[39mitems()), finalize\u001b[38;5;241m=\u001b[39m\u001b[38;5;28;01mFalse\u001b[39;00m)\n",
      "File \u001b[0;32m~/tensorflow/env/lib/python3.8/site-packages/keras/utils/tf_utils.py:607\u001b[0m, in \u001b[0;36msync_to_numpy_or_python_type\u001b[0;34m(tensors)\u001b[0m\n\u001b[1;32m    604\u001b[0m     \u001b[38;5;28;01mreturn\u001b[39;00m t\n\u001b[1;32m    605\u001b[0m   \u001b[38;5;28;01mreturn\u001b[39;00m t\u001b[38;5;241m.\u001b[39mitem() \u001b[38;5;28;01mif\u001b[39;00m np\u001b[38;5;241m.\u001b[39mndim(t) \u001b[38;5;241m==\u001b[39m \u001b[38;5;241m0\u001b[39m \u001b[38;5;28;01melse\u001b[39;00m t\n\u001b[0;32m--> 607\u001b[0m \u001b[38;5;28;01mreturn\u001b[39;00m \u001b[43mtf\u001b[49m\u001b[38;5;241;43m.\u001b[39;49m\u001b[43mnest\u001b[49m\u001b[38;5;241;43m.\u001b[39;49m\u001b[43mmap_structure\u001b[49m\u001b[43m(\u001b[49m\u001b[43m_to_single_numpy_or_python_type\u001b[49m\u001b[43m,\u001b[49m\u001b[43m \u001b[49m\u001b[43mtensors\u001b[49m\u001b[43m)\u001b[49m\n",
      "File \u001b[0;32m~/tensorflow/env/lib/python3.8/site-packages/tensorflow/python/util/nest.py:916\u001b[0m, in \u001b[0;36mmap_structure\u001b[0;34m(func, *structure, **kwargs)\u001b[0m\n\u001b[1;32m    912\u001b[0m flat_structure \u001b[38;5;241m=\u001b[39m (flatten(s, expand_composites) \u001b[38;5;28;01mfor\u001b[39;00m s \u001b[38;5;129;01min\u001b[39;00m structure)\n\u001b[1;32m    913\u001b[0m entries \u001b[38;5;241m=\u001b[39m \u001b[38;5;28mzip\u001b[39m(\u001b[38;5;241m*\u001b[39mflat_structure)\n\u001b[1;32m    915\u001b[0m \u001b[38;5;28;01mreturn\u001b[39;00m pack_sequence_as(\n\u001b[0;32m--> 916\u001b[0m     structure[\u001b[38;5;241m0\u001b[39m], [func(\u001b[38;5;241m*\u001b[39mx) \u001b[38;5;28;01mfor\u001b[39;00m x \u001b[38;5;129;01min\u001b[39;00m entries],\n\u001b[1;32m    917\u001b[0m     expand_composites\u001b[38;5;241m=\u001b[39mexpand_composites)\n",
      "File \u001b[0;32m~/tensorflow/env/lib/python3.8/site-packages/tensorflow/python/util/nest.py:916\u001b[0m, in \u001b[0;36m<listcomp>\u001b[0;34m(.0)\u001b[0m\n\u001b[1;32m    912\u001b[0m flat_structure \u001b[38;5;241m=\u001b[39m (flatten(s, expand_composites) \u001b[38;5;28;01mfor\u001b[39;00m s \u001b[38;5;129;01min\u001b[39;00m structure)\n\u001b[1;32m    913\u001b[0m entries \u001b[38;5;241m=\u001b[39m \u001b[38;5;28mzip\u001b[39m(\u001b[38;5;241m*\u001b[39mflat_structure)\n\u001b[1;32m    915\u001b[0m \u001b[38;5;28;01mreturn\u001b[39;00m pack_sequence_as(\n\u001b[0;32m--> 916\u001b[0m     structure[\u001b[38;5;241m0\u001b[39m], [\u001b[43mfunc\u001b[49m\u001b[43m(\u001b[49m\u001b[38;5;241;43m*\u001b[39;49m\u001b[43mx\u001b[49m\u001b[43m)\u001b[49m \u001b[38;5;28;01mfor\u001b[39;00m x \u001b[38;5;129;01min\u001b[39;00m entries],\n\u001b[1;32m    917\u001b[0m     expand_composites\u001b[38;5;241m=\u001b[39mexpand_composites)\n",
      "File \u001b[0;32m~/tensorflow/env/lib/python3.8/site-packages/keras/utils/tf_utils.py:601\u001b[0m, in \u001b[0;36msync_to_numpy_or_python_type.<locals>._to_single_numpy_or_python_type\u001b[0;34m(t)\u001b[0m\n\u001b[1;32m    598\u001b[0m \u001b[38;5;28;01mdef\u001b[39;00m \u001b[38;5;21m_to_single_numpy_or_python_type\u001b[39m(t):\n\u001b[1;32m    599\u001b[0m   \u001b[38;5;66;03m# Don't turn ragged or sparse tensors to NumPy.\u001b[39;00m\n\u001b[1;32m    600\u001b[0m   \u001b[38;5;28;01mif\u001b[39;00m \u001b[38;5;28misinstance\u001b[39m(t, tf\u001b[38;5;241m.\u001b[39mTensor):\n\u001b[0;32m--> 601\u001b[0m     t \u001b[38;5;241m=\u001b[39m \u001b[43mt\u001b[49m\u001b[38;5;241;43m.\u001b[39;49m\u001b[43mnumpy\u001b[49m\u001b[43m(\u001b[49m\u001b[43m)\u001b[49m\n\u001b[1;32m    602\u001b[0m   \u001b[38;5;66;03m# Strings, ragged and sparse tensors don't have .item(). Return them as-is.\u001b[39;00m\n\u001b[1;32m    603\u001b[0m   \u001b[38;5;28;01mif\u001b[39;00m \u001b[38;5;129;01mnot\u001b[39;00m \u001b[38;5;28misinstance\u001b[39m(t, (np\u001b[38;5;241m.\u001b[39mndarray, np\u001b[38;5;241m.\u001b[39mgeneric)):\n",
      "File \u001b[0;32m~/tensorflow/env/lib/python3.8/site-packages/tensorflow/python/framework/ops.py:1159\u001b[0m, in \u001b[0;36m_EagerTensorBase.numpy\u001b[0;34m(self)\u001b[0m\n\u001b[1;32m   1136\u001b[0m \u001b[38;5;124;03m\"\"\"Copy of the contents of this Tensor into a NumPy array or scalar.\u001b[39;00m\n\u001b[1;32m   1137\u001b[0m \n\u001b[1;32m   1138\u001b[0m \u001b[38;5;124;03mUnlike NumPy arrays, Tensors are immutable, so this method has to copy\u001b[39;00m\n\u001b[0;32m   (...)\u001b[0m\n\u001b[1;32m   1156\u001b[0m \u001b[38;5;124;03m    NumPy dtype.\u001b[39;00m\n\u001b[1;32m   1157\u001b[0m \u001b[38;5;124;03m\"\"\"\u001b[39;00m\n\u001b[1;32m   1158\u001b[0m \u001b[38;5;66;03m# TODO(slebedev): Consider avoiding a copy for non-CPU or remote tensors.\u001b[39;00m\n\u001b[0;32m-> 1159\u001b[0m maybe_arr \u001b[38;5;241m=\u001b[39m \u001b[38;5;28;43mself\u001b[39;49m\u001b[38;5;241;43m.\u001b[39;49m\u001b[43m_numpy\u001b[49m\u001b[43m(\u001b[49m\u001b[43m)\u001b[49m  \u001b[38;5;66;03m# pylint: disable=protected-access\u001b[39;00m\n\u001b[1;32m   1160\u001b[0m \u001b[38;5;28;01mreturn\u001b[39;00m maybe_arr\u001b[38;5;241m.\u001b[39mcopy() \u001b[38;5;28;01mif\u001b[39;00m \u001b[38;5;28misinstance\u001b[39m(maybe_arr, np\u001b[38;5;241m.\u001b[39mndarray) \u001b[38;5;28;01melse\u001b[39;00m maybe_arr\n",
      "File \u001b[0;32m~/tensorflow/env/lib/python3.8/site-packages/tensorflow/python/framework/ops.py:1125\u001b[0m, in \u001b[0;36m_EagerTensorBase._numpy\u001b[0;34m(self)\u001b[0m\n\u001b[1;32m   1123\u001b[0m \u001b[38;5;28;01mdef\u001b[39;00m \u001b[38;5;21m_numpy\u001b[39m(\u001b[38;5;28mself\u001b[39m):\n\u001b[1;32m   1124\u001b[0m   \u001b[38;5;28;01mtry\u001b[39;00m:\n\u001b[0;32m-> 1125\u001b[0m     \u001b[38;5;28;01mreturn\u001b[39;00m \u001b[38;5;28;43mself\u001b[39;49m\u001b[38;5;241;43m.\u001b[39;49m\u001b[43m_numpy_internal\u001b[49m\u001b[43m(\u001b[49m\u001b[43m)\u001b[49m\n\u001b[1;32m   1126\u001b[0m   \u001b[38;5;28;01mexcept\u001b[39;00m core\u001b[38;5;241m.\u001b[39m_NotOkStatusException \u001b[38;5;28;01mas\u001b[39;00m e:  \u001b[38;5;66;03m# pylint: disable=protected-access\u001b[39;00m\n\u001b[1;32m   1127\u001b[0m     \u001b[38;5;28;01mraise\u001b[39;00m core\u001b[38;5;241m.\u001b[39m_status_to_exception(e) \u001b[38;5;28;01mfrom\u001b[39;00m \u001b[38;5;28mNone\u001b[39m\n",
      "\u001b[0;31mKeyboardInterrupt\u001b[0m: "
     ]
    }
   ],
   "source": [
    "# Train model\n",
    "#for illustration epoch=3\n",
    "history = model.fit(\n",
    "    train_generator,\n",
    "    validation_data=val_generator,\n",
    "    callbacks=[checkpoint, \n",
    "               #early_stopping, \n",
    "               lr_plateau],\n",
    "    use_multiprocessing=False,\n",
    "    workers=8,\n",
    "    epochs=40\n",
    ")"
   ]
  },
  {
   "cell_type": "markdown",
   "id": "bd2775ea",
   "metadata": {
    "papermill": {
     "duration": 25.987324,
     "end_time": "2022-06-17T15:03:40.573188",
     "exception": false,
     "start_time": "2022-06-17T15:03:14.585864",
     "status": "completed"
    },
    "tags": []
   },
   "source": [
    "**Learning curves**"
   ]
  },
  {
   "cell_type": "code",
   "execution_count": null,
   "id": "fc6663aa",
   "metadata": {
    "execution": {
     "iopub.execute_input": "2022-06-17T15:04:33.037866Z",
     "iopub.status.busy": "2022-06-17T15:04:33.037600Z",
     "iopub.status.idle": "2022-06-17T15:04:33.447698Z",
     "shell.execute_reply": "2022-06-17T15:04:33.446974Z"
    },
    "papermill": {
     "duration": 26.652783,
     "end_time": "2022-06-17T15:04:33.450189",
     "exception": false,
     "start_time": "2022-06-17T15:04:06.797406",
     "status": "completed"
    },
    "tags": []
   },
   "outputs": [],
   "source": [
    "# History\n",
    "hist_df = pd.DataFrame(history.history)\n",
    "hist_df.to_csv('history.csv')\n",
    "\n",
    "# PLOT TRAINING\n",
    "plt.figure(figsize=(15,5))\n",
    "plt.subplot(1,3,1)\n",
    "plt.plot(range(history.epoch[-1]+1),history.history['loss'],label='Train_Loss')\n",
    "plt.plot(range(history.epoch[-1]+1),history.history['val_loss'],label='Val_loss')\n",
    "plt.title('LOSS'); plt.xlabel('Epoch'); plt.ylabel('loss');plt.legend();\n",
    "\n",
    "plt.subplot(1,3,2)\n",
    "plt.plot(range(history.epoch[-1]+1),history.history['dice_coef'],label='Train_dice_coef')\n",
    "plt.plot(range(history.epoch[-1]+1),history.history['val_dice_coef'],label='Val_dice_coef')\n",
    "plt.title('DICE'); plt.xlabel('Epoch'); plt.ylabel('dice_coef');plt.legend(); \n",
    "\n",
    "plt.subplot(1,3,3)\n",
    "plt.plot(range(history.epoch[-1]+1),history.history['iou_coef'],label='Train_iou_coef')\n",
    "plt.plot(range(history.epoch[-1]+1),history.history['val_iou_coef'],label='Val_iou_coef')\n",
    "plt.title('IOU'); plt.xlabel('Epoch'); plt.ylabel('iou_coef');plt.legend();\n",
    "plt.show()"
   ]
  },
  {
   "cell_type": "markdown",
   "id": "376b39e3",
   "metadata": {
    "papermill": {
     "duration": 26.130782,
     "end_time": "2022-06-17T15:05:26.414032",
     "exception": false,
     "start_time": "2022-06-17T15:05:00.283250",
     "status": "completed"
    },
    "tags": []
   },
   "source": [
    "# Evaluation"
   ]
  },
  {
   "cell_type": "markdown",
   "id": "888f9be0",
   "metadata": {
    "papermill": {
     "duration": 26.499938,
     "end_time": "2022-06-17T15:06:18.921378",
     "exception": false,
     "start_time": "2022-06-17T15:05:52.421440",
     "status": "completed"
    },
    "tags": []
   },
   "source": [
    "**Save model (if checkpoint not used)**"
   ]
  },
  {
   "cell_type": "code",
   "execution_count": null,
   "id": "441a6804",
   "metadata": {
    "execution": {
     "iopub.execute_input": "2022-06-17T15:07:12.789232Z",
     "iopub.status.busy": "2022-06-17T15:07:12.788928Z",
     "iopub.status.idle": "2022-06-17T15:07:12.794223Z",
     "shell.execute_reply": "2022-06-17T15:07:12.793510Z"
    },
    "papermill": {
     "duration": 27.434885,
     "end_time": "2022-06-17T15:07:12.796433",
     "exception": false,
     "start_time": "2022-06-17T15:06:45.361548",
     "status": "completed"
    },
    "tags": []
   },
   "outputs": [],
   "source": [
    "#save_model(model,'UNET_model')\n",
    "\n",
    "'''\n",
    "custom_objects = custom_objects={\n",
    "    'dice_coef': dice_coef,\n",
    "    'iou_coef': iou_coef,\n",
    "    'bce_dice_loss': bce_dice_loss\n",
    "}\n",
    "model = load_model('./UNET_model', custom_objects=custom_objects)\n",
    "'''"
   ]
  },
  {
   "cell_type": "markdown",
   "id": "ec5b0e83",
   "metadata": {
    "papermill": {
     "duration": 26.201942,
     "end_time": "2022-06-17T15:08:05.829170",
     "exception": false,
     "start_time": "2022-06-17T15:07:39.627228",
     "status": "completed"
    },
    "tags": []
   },
   "source": [
    "**Preview predictions**"
   ]
  },
  {
   "cell_type": "code",
   "execution_count": null,
   "id": "4971d460",
   "metadata": {
    "execution": {
     "iopub.execute_input": "2022-06-17T15:08:58.916382Z",
     "iopub.status.busy": "2022-06-17T15:08:58.916076Z",
     "iopub.status.idle": "2022-06-17T15:09:02.723776Z",
     "shell.execute_reply": "2022-06-17T15:09:02.723173Z"
    },
    "papermill": {
     "duration": 30.489271,
     "end_time": "2022-06-17T15:09:02.729748",
     "exception": false,
     "start_time": "2022-06-17T15:08:32.240477",
     "status": "completed"
    },
    "tags": []
   },
   "outputs": [],
   "source": [
    "pred_batches = DataGenerator(X_valid.iloc[200:208,:], batch_size = 1, subset=\"train\", shuffle=False)\n",
    "preds = model.predict_generator(pred_batches,verbose=1)\n",
    "\n",
    "Threshold = 0.5\n",
    "# Visualizing\n",
    "fig = plt.figure(figsize=(10, 25))\n",
    "gs = gridspec.GridSpec(nrows=8, ncols=3)\n",
    "colors = ['yellow','green','red']\n",
    "labels = [\"Large Bowel\", \"Small Bowel\", \"Stomach\"]\n",
    "patches = [ mpatches.Patch(color=colors[i], label=f\"{labels[i]}\") for i in range(len(labels))]\n",
    "\n",
    "cmap1 = mpl.colors.ListedColormap(colors[0])\n",
    "cmap2 = mpl.colors.ListedColormap(colors[1])\n",
    "cmap3= mpl.colors.ListedColormap(colors[2])\n",
    "\n",
    "for i in range(8):\n",
    "    images, mask = pred_batches[i]\n",
    "    sample_img=images[0,:,:,0]\n",
    "    mask1=mask[0,:,:,0]\n",
    "    mask2=mask[0,:,:,1]\n",
    "    mask3=mask[0,:,:,2]\n",
    "    \n",
    "    pre=preds[i]\n",
    "    predict1=pre[:,:,0]\n",
    "    predict2=pre[:,:,1]\n",
    "    predict3=pre[:,:,2]\n",
    "    \n",
    "    predict1= (predict1 > Threshold).astype(np.float32)\n",
    "    predict2= (predict2 > Threshold).astype(np.float32)\n",
    "    predict3= (predict3 > Threshold).astype(np.float32)\n",
    "    \n",
    "    ax0 = fig.add_subplot(gs[i, 0])\n",
    "    im = ax0.imshow(sample_img, cmap='bone')\n",
    "    ax0.set_title(\"Image\", fontsize=12, y=1.01)\n",
    "    #--------------------------\n",
    "    ax1 = fig.add_subplot(gs[i, 1])\n",
    "    ax1.set_title(\"Mask\", fontsize=12,  y=1.01)\n",
    "    l0 = ax1.imshow(sample_img, cmap='bone')\n",
    "    l1 = ax1.imshow(np.ma.masked_where(mask1== False,  mask1),cmap=cmap1, alpha=1)\n",
    "    l2 = ax1.imshow(np.ma.masked_where(mask2== False,  mask2),cmap=cmap2, alpha=1)\n",
    "    l3 = ax1.imshow(np.ma.masked_where(mask3== False,  mask3),cmap=cmap3, alpha=1)\n",
    "    #--------------------------\n",
    "    ax2 = fig.add_subplot(gs[i, 2])\n",
    "    ax2.set_title(\"Predict\", fontsize=12, y=1.01)\n",
    "    l0 = ax2.imshow(sample_img, cmap='bone')\n",
    "    l1 = ax2.imshow(np.ma.masked_where(predict1== False,  predict1),cmap=cmap1, alpha=1)\n",
    "    l2 = ax2.imshow(np.ma.masked_where(predict2== False,  predict2),cmap=cmap2, alpha=1)\n",
    "    l3 = ax2.imshow(np.ma.masked_where(predict3== False,  predict3),cmap=cmap3, alpha=1)\n",
    "   \n",
    "\n",
    "    _ = [ax.set_axis_off() for ax in [ax0,ax1,ax2]]\n",
    "    colors = [im.cmap(im.norm(1)) for im in [l1,l2, l3]]\n",
    "    plt.legend(handles=patches, bbox_to_anchor=(1.1, 0.65), loc=2, borderaxespad=0.4,fontsize = 12,title='Mask Labels', title_fontsize=12, edgecolor=\"black\",  facecolor='#c5c6c7')\n"
   ]
  },
  {
   "cell_type": "markdown",
   "id": "576b2d94",
   "metadata": {
    "papermill": {
     "duration": 26.401833,
     "end_time": "2022-06-17T15:09:55.311211",
     "exception": false,
     "start_time": "2022-06-17T15:09:28.909378",
     "status": "completed"
    },
    "tags": []
   },
   "source": [
    "# Test set predictions"
   ]
  },
  {
   "cell_type": "markdown",
   "id": "42a84a17",
   "metadata": {
    "papermill": {
     "duration": 26.206366,
     "end_time": "2022-06-17T15:10:47.594175",
     "exception": false,
     "start_time": "2022-06-17T15:10:21.387809",
     "status": "completed"
    },
    "tags": []
   },
   "source": [
    "**Make predictions on test set**"
   ]
  },
  {
   "cell_type": "code",
   "execution_count": null,
   "id": "f65aaade",
   "metadata": {
    "execution": {
     "iopub.execute_input": "2022-06-17T15:11:40.654887Z",
     "iopub.status.busy": "2022-06-17T15:11:40.654606Z",
     "iopub.status.idle": "2022-06-17T15:11:44.017503Z",
     "shell.execute_reply": "2022-06-17T15:11:44.016718Z"
    },
    "papermill": {
     "duration": 30.064149,
     "end_time": "2022-06-17T15:11:44.019594",
     "exception": false,
     "start_time": "2022-06-17T15:11:13.955445",
     "status": "completed"
    },
    "tags": []
   },
   "outputs": [],
   "source": [
    "#gcd(80,144)=16=BATCH_SIZE\n",
    "pred_batches = DataGenerator(test_df, batch_size = BATCH_SIZE, subset=\"test\", shuffle=False)\n",
    "num_batches = int(len(test_df)/BATCH_SIZE)\n",
    "\n",
    "for i in range(num_batches):\n",
    "    # Predict\n",
    "    preds = model.predict(pred_batches[i],verbose=0)     # shape: (16,im_height,im_width,3)\n",
    "    \n",
    "    # Rle encode\n",
    "    for j in range(BATCH_SIZE):\n",
    "        for k in range(3):\n",
    "            pred_img = cv2.resize(preds[j,:,:,k], (test_df.loc[i*BATCH_SIZE+j,\"width\"], test_df.loc[i*BATCH_SIZE+j,\"height\"]), interpolation=cv2.INTER_NEAREST) # resize probabilities to original shape\n",
    "            pred_img = (pred_img>0.5).astype(dtype='uint8')    # classify\n",
    "            submission.loc[3*(i*BATCH_SIZE+j)+k,'predicted'] = rle_encode(pred_img)"
   ]
  },
  {
   "cell_type": "markdown",
   "id": "7437789b",
   "metadata": {
    "papermill": {
     "duration": 26.15691,
     "end_time": "2022-06-17T15:12:36.359924",
     "exception": false,
     "start_time": "2022-06-17T15:12:10.203014",
     "status": "completed"
    },
    "tags": []
   },
   "source": [
    "**Save predictions**"
   ]
  },
  {
   "cell_type": "code",
   "execution_count": null,
   "id": "37c7ea0d",
   "metadata": {
    "execution": {
     "iopub.execute_input": "2022-06-17T15:13:28.625461Z",
     "iopub.status.busy": "2022-06-17T15:13:28.625185Z",
     "iopub.status.idle": "2022-06-17T15:13:28.640143Z",
     "shell.execute_reply": "2022-06-17T15:13:28.639346Z"
    },
    "papermill": {
     "duration": 26.145806,
     "end_time": "2022-06-17T15:13:28.642141",
     "exception": false,
     "start_time": "2022-06-17T15:13:02.496335",
     "status": "completed"
    },
    "tags": []
   },
   "outputs": [],
   "source": [
    "submission.to_csv('submission.csv',index=False)\n",
    "submission.sample(20)"
   ]
  }
 ],
 "metadata": {
  "kernelspec": {
   "display_name": "Python 3 (ipykernel)",
   "language": "python",
   "name": "python3"
  },
  "language_info": {
   "codemirror_mode": {
    "name": "ipython",
    "version": 3
   },
   "file_extension": ".py",
   "mimetype": "text/x-python",
   "name": "python",
   "nbconvert_exporter": "python",
   "pygments_lexer": "ipython3",
   "version": "3.8.13"
  },
  "papermill": {
   "default_parameters": {},
   "duration": 21361.82212,
   "end_time": "2022-06-17T15:14:51.429539",
   "environment_variables": {},
   "exception": null,
   "input_path": "__notebook__.ipynb",
   "output_path": "__notebook__.ipynb",
   "parameters": {},
   "start_time": "2022-06-17T09:18:49.607419",
   "version": "2.3.4"
  }
 },
 "nbformat": 4,
 "nbformat_minor": 5
}
